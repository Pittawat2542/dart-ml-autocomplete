{
  "nbformat": 4,
  "nbformat_minor": 0,
  "metadata": {
    "colab": {
      "name": "CSC532_Term_Project_Ensemble_Model.ipynb",
      "provenance": [],
      "toc_visible": true
    },
    "kernelspec": {
      "display_name": "Python 3",
      "name": "python3"
    },
    "language_info": {
      "name": "python"
    }
  },
  "cells": [
    {
      "cell_type": "markdown",
      "metadata": {
        "id": "_Z_gVBdoLQ1Z"
      },
      "source": [
        "# Import required dependencies"
      ]
    },
    {
      "cell_type": "code",
      "metadata": {
        "id": "3JRn96_ZgZyH"
      },
      "source": [
        "import re\n",
        "import os\n",
        "import io\n",
        "import json"
      ],
      "execution_count": 70,
      "outputs": []
    },
    {
      "cell_type": "code",
      "metadata": {
        "colab": {
          "base_uri": "https://localhost:8080/"
        },
        "id": "t-mG4qJRP4UZ",
        "outputId": "661cc035-b7aa-4794-e19b-816ad3e02e80"
      },
      "source": [
        "import zipfile\n",
        "import requests\n",
        "import pandas as pd\n",
        "import numpy as np\n",
        "import tensorflow as tf\n",
        "import matplotlib.pyplot as plt\n",
        "\n",
        "from tensorflow.keras.preprocessing.text import Tokenizer, tokenizer_from_json\n",
        "from tensorflow.keras.preprocessing.sequence import pad_sequences\n",
        "\n",
        "print(tf.__version__)"
      ],
      "execution_count": 72,
      "outputs": [
        {
          "output_type": "stream",
          "text": [
            "2.4.1\n"
          ],
          "name": "stdout"
        }
      ]
    },
    {
      "cell_type": "markdown",
      "metadata": {
        "id": "Q3-vopITLUJN"
      },
      "source": [
        "# Prepare dataset and configuration"
      ]
    },
    {
      "cell_type": "code",
      "metadata": {
        "id": "dSiqMwqBH2Kf"
      },
      "source": [
        "OUT_OF_VOCABULARY = '<OOV>'\n",
        "LENGTH_TO_CONSIDER = 30"
      ],
      "execution_count": null,
      "outputs": []
    },
    {
      "cell_type": "code",
      "metadata": {
        "colab": {
          "base_uri": "https://localhost:8080/"
        },
        "id": "nc8DprtUiIfe",
        "outputId": "d3735797-4635-4004-9fe1-0421f8a5319a"
      },
      "source": [
        "file_name = 'source_code.txt'\n",
        "file_url = 'https://github.com/Pittawat2542/dart-ml-autocomplete/raw/master/dataset_collector/source_code.txt'\n",
        "r = requests.get(file_url, allow_redirects=True)\n",
        "open(file_name, 'wb').write(r.content)"
      ],
      "execution_count": null,
      "outputs": [
        {
          "output_type": "execute_result",
          "data": {
            "text/plain": [
              "5148815"
            ]
          },
          "metadata": {
            "tags": []
          },
          "execution_count": 5
        }
      ]
    },
    {
      "cell_type": "code",
      "metadata": {
        "id": "RnyuuRkEfCT_"
      },
      "source": [
        "dart_keywords = [\"abstract\", \"else\", \"import\", \"super\", \"as\", \"enum\", \"in\", \"switch\", \"assert\", \"export\", \"interface\", \"sync\", \"async\", \"extends\", \"is\", \"this\", \"await\", \"extension\", \"library\", \"throw\", \"break\", \"external\", \"mixin\", \"true\", \"case\", \"factory\", \"new\", \"try\", \"catch\", \"false\", \"null\", \"typedef\", \"class\", \"final\", \"on\", \"var\", \"const\", \"finally\", \"operator\", \"void\", \"continue\", \"for\", \"part\", \"while\", \"covariant\", \"Function\", \"rethrow\", \"with\", \"default\", \"get\", \"return\", \"yield\", \"deferred\", \"hide\", \"set\", \"do\", \"if\", \"show\", \"dynamic\", \"implements\", \"static\"]\n",
        "dart_operators = [\";\", \">\", \"<\", \">=\", \"<=\", \"==\", \"!=\", \"=\", \"(\", \")\", \"[\", \"]\", \"{\", \"}\", \"&&\", \"||\", \"!\", \"&\", \"|\", \"^\", \"~\", \"++\", \"--\", \".\", \"?.\", \"+\", \"-\", \"*\", \"/\", \"%\", \"+=\", \"-=\", \"*=\", \"/=\", \"%=\", \"~/\", \">>\", \"<<\", \">>>\", \"?\", \":\", \"..\", \"?..\", \"^=\", \"&=\", \"|=\", \"??\", \"=>\"]\n",
        "training_data = open(file_name, 'rb').read().decode(encoding='utf-8')"
      ],
      "execution_count": null,
      "outputs": []
    },
    {
      "cell_type": "code",
      "metadata": {
        "id": "PFEGjVc7EKcn"
      },
      "source": [
        "type_classification_labels = ['KEYWORD', 'OPERATOR', 'SPACE', 'NEWLINE', 'DICTIONARY']\n",
        "\n",
        "keyword_classification_labels = [w for w in dart_keywords]\n",
        "keyword_classification_labels.append(OUT_OF_VOCABULARY)\n",
        "\n",
        "operator_classification_labels = [w for w in dart_operators]\n",
        "operator_classification_labels.append(OUT_OF_VOCABULARY)"
      ],
      "execution_count": null,
      "outputs": []
    },
    {
      "cell_type": "code",
      "metadata": {
        "colab": {
          "base_uri": "https://localhost:8080/"
        },
        "id": "yXGZPGfViRN1",
        "outputId": "b4c0c069-8ac0-4218-c508-a51243ac6ad0"
      },
      "source": [
        "training_data = re.sub(r\"//.*\", \"\", training_data) # remove comment\n",
        "training_data = re.sub(r\"import.*\", \"\", training_data) # remove import\n",
        "training_data = re.sub(r\"export.*\", \"\", training_data) # remove export\n",
        "training_data = re.sub(r\"^(?:[\\t ]*(?:\\r?\\n|\\r))+\", \"\", training_data) # remove blank line\n",
        "training_data = re.sub(r\"^(\\s*\\r\\n){2,}\", \"\\r\\n\", training_data) # replace multiple blank lines with one\n",
        "training_data = re.sub(r\"^\\s*$\", \"\", training_data) # remove line with only spaces\n",
        "training_data = training_data.replace('\\n', '').replace(';', ';\\n')\n",
        "print(training_data[:250])"
      ],
      "execution_count": null,
      "outputs": [
        {
          "output_type": "stream",
          "text": [
            "final Context posix = Context(style: Style.posix);\n",
            "final Context windows = Context(style: Style.windows);\n",
            "final Context url = Context(style: Style.url);\n",
            "final Context context = createInternal();\n",
            "Style get style => context.style;\n",
            "String get current { \n"
          ],
          "name": "stdout"
        }
      ]
    },
    {
      "cell_type": "markdown",
      "metadata": {
        "id": "CEF9y-RKLbWz"
      },
      "source": [
        "# Prepare dataset for model training"
      ]
    },
    {
      "cell_type": "code",
      "metadata": {
        "id": "qBS1_VOuBMP0"
      },
      "source": [
        "training_data_arr = list(filter(None, re.split(r'( |\\n|:|\\.|[()])', training_data)))"
      ],
      "execution_count": null,
      "outputs": []
    },
    {
      "cell_type": "code",
      "metadata": {
        "id": "xls8qH_aKZ4a"
      },
      "source": [
        "type_classification_dataset = {\n",
        "    'Text': [],\n",
        "    'Label': []\n",
        "}\n",
        "\n",
        "for i in range(0, len(training_data_arr) - LENGTH_TO_CONSIDER, 30):\n",
        "  next_word = training_data_arr[i+LENGTH_TO_CONSIDER]\n",
        "  label = ''\n",
        "  if next_word in dart_keywords:\n",
        "    label = 0\n",
        "  elif next_word in dart_operators:\n",
        "    label = 1\n",
        "  elif next_word == ' ':\n",
        "    label = 2\n",
        "  elif next_word == '\\n':\n",
        "    label = 3\n",
        "  else:\n",
        "    label = 4\n",
        "  \n",
        "  type_classification_dataset['Text'].append(''.join(training_data_arr[i:i+LENGTH_TO_CONSIDER]))\n",
        "  type_classification_dataset['Label'].append(label)\n",
        "\n",
        "type_classification_dataset = pd.DataFrame(type_classification_dataset)\n",
        "type_target = type_classification_dataset.pop('Label')\n",
        "type_dataset = tf.data.Dataset.from_tensor_slices((type_classification_dataset.values, type_target.values))"
      ],
      "execution_count": null,
      "outputs": []
    },
    {
      "cell_type": "code",
      "metadata": {
        "id": "DwkW02hGBBG4"
      },
      "source": [
        "keyword_classification_dataset = {\n",
        "    'Text': [],\n",
        "    'Label': []\n",
        "}\n",
        "\n",
        "training_data_arr_temp = [w for w in training_data_arr]\n",
        "\n",
        "for i, word in enumerate(training_data_arr_temp):\n",
        "  if word not in dart_keywords:\n",
        "    training_data_arr_temp[i] = OUT_OF_VOCABULARY\n",
        "\n",
        "for i in range(0, len(training_data_arr_temp) - LENGTH_TO_CONSIDER, 30):\n",
        "  next_word = training_data_arr_temp[i+LENGTH_TO_CONSIDER]\n",
        "  if next_word != OUT_OF_VOCABULARY:\n",
        "    keyword_classification_dataset['Text'].append(''.join(training_data_arr_temp[i:i+LENGTH_TO_CONSIDER]))\n",
        "    keyword_classification_dataset['Label'].append(keyword_classification_labels.index(next_word))\n",
        "\n",
        "keyword_classification_dataset = pd.DataFrame(keyword_classification_dataset)\n",
        "keyword_target = keyword_classification_dataset.pop('Label')\n",
        "keyword_dataset = tf.data.Dataset.from_tensor_slices((keyword_classification_dataset.values, keyword_target.values))"
      ],
      "execution_count": null,
      "outputs": []
    },
    {
      "cell_type": "code",
      "metadata": {
        "id": "6Y2iwxfQGutI"
      },
      "source": [
        "operator_classification_dataset = {\n",
        "    'Text': [],\n",
        "    'Label': []\n",
        "}\n",
        "\n",
        "training_data_arr_temp = [w for w in training_data_arr]\n",
        "\n",
        "for i, word in enumerate(training_data_arr_temp):\n",
        "  if word not in dart_operators:\n",
        "    training_data_arr_temp[i] = OUT_OF_VOCABULARY\n",
        "\n",
        "for i in range(0, len(training_data_arr_temp) - LENGTH_TO_CONSIDER, 30):\n",
        "  next_word = training_data_arr_temp[i+LENGTH_TO_CONSIDER]\n",
        "  if next_word != OUT_OF_VOCABULARY:\n",
        "    operator_classification_dataset['Text'].append(''.join(training_data_arr_temp[i:i+LENGTH_TO_CONSIDER]))\n",
        "    operator_classification_dataset['Label'].append(operator_classification_labels.index(next_word))\n",
        "\n",
        "operator_classification_dataset = pd.DataFrame(operator_classification_dataset)\n",
        "operator_target = operator_classification_dataset.pop('Label')\n",
        "operator_dataset = tf.data.Dataset.from_tensor_slices((operator_classification_dataset.values, operator_target.values))"
      ],
      "execution_count": null,
      "outputs": []
    },
    {
      "cell_type": "code",
      "metadata": {
        "id": "_TVH43zqHKJN",
        "cellView": "form"
      },
      "source": [
        "#@title\n",
        "dictionary_classification_dataset = {\n",
        "    'Text': [],\n",
        "    'Label': []\n",
        "}\n",
        "\n",
        "training_data_arr_temp = [w for w in training_data_arr]\n",
        "\n",
        "for i, word in enumerate(training_data_arr_temp):\n",
        "  if word in dart_keywords or word in dart_operators or word == ' ' or word == '\\n':\n",
        "    training_data_arr_temp[i] = OUT_OF_VOCABULARY\n",
        "\n",
        "for i in range(0, len(training_data_arr_temp) - LENGTH_TO_CONSIDER, 30):\n",
        "  dictionary_classification_dataset['Text'].append(''.join(training_data_arr_temp[i:i+LENGTH_TO_CONSIDER]))\n",
        "  dictionary_classification_dataset['Label'].append(training_data_arr_temp[i+LENGTH_TO_CONSIDER])\n",
        "\n",
        "dictionary_classification_dataset = pd.DataFrame(dictionary_classification_dataset)\n",
        "\n",
        "dictionary_target = dictionary_classification_dataset.pop('Label')\n",
        "\n",
        "dictionary_dataset = tf.data.Dataset.from_tensor_slices((dictionary_classification_dataset.values, dictionary_target.values))"
      ],
      "execution_count": null,
      "outputs": []
    },
    {
      "cell_type": "markdown",
      "metadata": {
        "id": "4bSReO6iLdqw"
      },
      "source": [
        "# Modeling"
      ]
    },
    {
      "cell_type": "code",
      "metadata": {
        "id": "xgAroJvCNgnZ"
      },
      "source": [
        "def plot_graphs(history, metric):\n",
        "  plt.plot(history.history[metric])\n",
        "  plt.plot(history.history['val_' + metric], '')\n",
        "  plt.xlabel('Epochs')\n",
        "  plt.ylabel(metric)\n",
        "  plt.legend([metric, 'val_'+metric])"
      ],
      "execution_count": null,
      "outputs": []
    },
    {
      "cell_type": "code",
      "metadata": {
        "id": "fwlPZz7mDObg"
      },
      "source": [
        "def plot_loss_acc(history):\n",
        "  plt.figure(figsize=(16, 8))\n",
        "  plt.subplot(1, 2, 1)\n",
        "  plot_graphs(history, 'accuracy')\n",
        "  plt.ylim(None, 1)\n",
        "  plt.subplot(1, 2, 2)\n",
        "  plot_graphs(history, 'loss')\n",
        "  plt.ylim(0, None)"
      ],
      "execution_count": null,
      "outputs": []
    },
    {
      "cell_type": "code",
      "metadata": {
        "id": "fg6EA8kGCikt"
      },
      "source": [
        "embedding_dim = 32\n",
        "max_length = LENGTH_TO_CONSIDER\n",
        "trunc_type='post'\n",
        "padding_type='post'\n",
        "oov_tok = '<OOV>'\n",
        "num_epochs = 30"
      ],
      "execution_count": null,
      "outputs": []
    },
    {
      "cell_type": "markdown",
      "metadata": {
        "id": "wTMP_7FVLeo0"
      },
      "source": [
        "## Type classification"
      ]
    },
    {
      "cell_type": "code",
      "metadata": {
        "id": "thBZUT_rDB2e"
      },
      "source": [
        "type_vocab_size = 1000"
      ],
      "execution_count": null,
      "outputs": []
    },
    {
      "cell_type": "code",
      "metadata": {
        "id": "VSroJfY65Ai6"
      },
      "source": [
        "type_sentences = type_classification_dataset['Text'].tolist()\n",
        "type_labels = type_target.tolist()\n",
        "\n",
        "type_training_size = int(len(type_sentences) * 0.8)\n",
        "type_training_text = type_sentences[:type_training_size]\n",
        "type_validation_text = type_sentences[type_training_size:]\n",
        "type_training_labels = np.array(type_labels[:type_training_size])\n",
        "type_validation_labels = np.array(type_labels[type_training_size:])"
      ],
      "execution_count": null,
      "outputs": []
    },
    {
      "cell_type": "code",
      "metadata": {
        "id": "o9-ptsPM7P2l"
      },
      "source": [
        "type_tokenizer = Tokenizer(num_words=type_vocab_size, oov_token=oov_tok)\n",
        "type_tokenizer.fit_on_texts(type_training_text)"
      ],
      "execution_count": null,
      "outputs": []
    },
    {
      "cell_type": "code",
      "metadata": {
        "id": "rG7C4Rpk7VXV"
      },
      "source": [
        "type_training_sequences = type_tokenizer.texts_to_sequences(type_training_text)\n",
        "type_training_padded = pad_sequences(type_training_sequences, maxlen=max_length, padding=padding_type, \n",
        "                       truncating=trunc_type)"
      ],
      "execution_count": null,
      "outputs": []
    },
    {
      "cell_type": "code",
      "metadata": {
        "id": "2Al5gMKZ7XK8"
      },
      "source": [
        "type_validation_sequences = type_tokenizer.texts_to_sequences(type_validation_text)\n",
        "type_validation_padded = pad_sequences(type_validation_sequences, maxlen=max_length, \n",
        "                               padding=padding_type, truncating=trunc_type)"
      ],
      "execution_count": null,
      "outputs": []
    },
    {
      "cell_type": "code",
      "metadata": {
        "colab": {
          "base_uri": "https://localhost:8080/"
        },
        "id": "JJDei8u4MBvz",
        "outputId": "797a659e-efed-409b-bac5-552f7e9ab6c8"
      },
      "source": [
        "type_model = tf.keras.Sequential([\n",
        "    tf.keras.layers.Embedding(type_vocab_size, embedding_dim, input_length=max_length),\n",
        "    tf.keras.layers.Flatten(),\n",
        "    tf.keras.layers.Dense(128, activation='relu'),\n",
        "    tf.keras.layers.Dense(64, activation='relu'),\n",
        "    tf.keras.layers.Dense(len(type_classification_labels))\n",
        "])\n",
        "\n",
        "type_model.compile(loss=tf.keras.losses.SparseCategoricalCrossentropy(from_logits=True), optimizer='adam', metrics=['accuracy'])\n",
        "type_model.summary()"
      ],
      "execution_count": null,
      "outputs": [
        {
          "output_type": "stream",
          "text": [
            "Model: \"sequential\"\n",
            "_________________________________________________________________\n",
            "Layer (type)                 Output Shape              Param #   \n",
            "=================================================================\n",
            "embedding (Embedding)        (None, 30, 32)            32000     \n",
            "_________________________________________________________________\n",
            "flatten (Flatten)            (None, 960)               0         \n",
            "_________________________________________________________________\n",
            "dense (Dense)                (None, 128)               123008    \n",
            "_________________________________________________________________\n",
            "dense_1 (Dense)              (None, 64)                8256      \n",
            "_________________________________________________________________\n",
            "dense_2 (Dense)              (None, 5)                 325       \n",
            "=================================================================\n",
            "Total params: 163,589\n",
            "Trainable params: 163,589\n",
            "Non-trainable params: 0\n",
            "_________________________________________________________________\n"
          ],
          "name": "stdout"
        }
      ]
    },
    {
      "cell_type": "code",
      "metadata": {
        "colab": {
          "base_uri": "https://localhost:8080/"
        },
        "id": "RzAi1Rz8M_-Q",
        "outputId": "49d370ac-1eb0-4a4d-c7c8-ea424bf867d1"
      },
      "source": [
        "type_history = type_model.fit(type_training_padded, type_training_labels, epochs=num_epochs, validation_data=(type_validation_padded, type_validation_labels))"
      ],
      "execution_count": null,
      "outputs": [
        {
          "output_type": "stream",
          "text": [
            "Epoch 1/30\n",
            "1261/1261 [==============================] - 6s 4ms/step - loss: 0.8455 - accuracy: 0.6888 - val_loss: 0.7201 - val_accuracy: 0.6551\n",
            "Epoch 2/30\n",
            "1261/1261 [==============================] - 5s 4ms/step - loss: 0.6591 - accuracy: 0.7219 - val_loss: 0.6417 - val_accuracy: 0.6794\n",
            "Epoch 3/30\n",
            "1261/1261 [==============================] - 5s 4ms/step - loss: 0.5880 - accuracy: 0.7385 - val_loss: 0.6116 - val_accuracy: 0.6845\n",
            "Epoch 4/30\n",
            "1261/1261 [==============================] - 5s 4ms/step - loss: 0.5453 - accuracy: 0.7528 - val_loss: 0.6072 - val_accuracy: 0.6880\n",
            "Epoch 5/30\n",
            "1261/1261 [==============================] - 5s 4ms/step - loss: 0.5163 - accuracy: 0.7625 - val_loss: 0.6044 - val_accuracy: 0.6918\n",
            "Epoch 6/30\n",
            "1261/1261 [==============================] - 5s 4ms/step - loss: 0.4862 - accuracy: 0.7747 - val_loss: 0.6172 - val_accuracy: 0.6877\n",
            "Epoch 7/30\n",
            "1261/1261 [==============================] - 5s 4ms/step - loss: 0.4727 - accuracy: 0.7774 - val_loss: 0.6192 - val_accuracy: 0.6908\n",
            "Epoch 8/30\n",
            "1261/1261 [==============================] - 5s 4ms/step - loss: 0.4567 - accuracy: 0.7823 - val_loss: 0.6138 - val_accuracy: 0.6939\n",
            "Epoch 9/30\n",
            "1261/1261 [==============================] - 5s 4ms/step - loss: 0.4475 - accuracy: 0.7887 - val_loss: 0.6215 - val_accuracy: 0.6902\n",
            "Epoch 10/30\n",
            "1261/1261 [==============================] - 5s 4ms/step - loss: 0.4361 - accuracy: 0.7910 - val_loss: 0.6348 - val_accuracy: 0.6877\n",
            "Epoch 11/30\n",
            "1261/1261 [==============================] - 5s 4ms/step - loss: 0.4308 - accuracy: 0.7910 - val_loss: 0.6405 - val_accuracy: 0.6850\n",
            "Epoch 12/30\n",
            "1261/1261 [==============================] - 5s 4ms/step - loss: 0.4253 - accuracy: 0.7946 - val_loss: 0.6461 - val_accuracy: 0.6909\n",
            "Epoch 13/30\n",
            "1261/1261 [==============================] - 5s 4ms/step - loss: 0.4136 - accuracy: 0.7998 - val_loss: 0.6539 - val_accuracy: 0.6876\n",
            "Epoch 14/30\n",
            "1261/1261 [==============================] - 5s 4ms/step - loss: 0.4090 - accuracy: 0.8006 - val_loss: 0.6614 - val_accuracy: 0.6916\n",
            "Epoch 15/30\n",
            "1261/1261 [==============================] - 5s 4ms/step - loss: 0.4070 - accuracy: 0.8022 - val_loss: 0.6706 - val_accuracy: 0.6855\n",
            "Epoch 16/30\n",
            "1261/1261 [==============================] - 5s 4ms/step - loss: 0.4025 - accuracy: 0.8034 - val_loss: 0.6699 - val_accuracy: 0.6875\n",
            "Epoch 17/30\n",
            "1261/1261 [==============================] - 5s 4ms/step - loss: 0.4006 - accuracy: 0.8066 - val_loss: 0.6752 - val_accuracy: 0.6841\n",
            "Epoch 18/30\n",
            "1261/1261 [==============================] - 5s 4ms/step - loss: 0.3986 - accuracy: 0.8017 - val_loss: 0.6860 - val_accuracy: 0.6811\n",
            "Epoch 19/30\n",
            "1261/1261 [==============================] - 5s 4ms/step - loss: 0.3998 - accuracy: 0.8052 - val_loss: 0.6963 - val_accuracy: 0.6856\n",
            "Epoch 20/30\n",
            "1261/1261 [==============================] - 5s 4ms/step - loss: 0.3998 - accuracy: 0.8047 - val_loss: 0.6912 - val_accuracy: 0.6923\n",
            "Epoch 21/30\n",
            "1261/1261 [==============================] - 5s 4ms/step - loss: 0.3880 - accuracy: 0.8093 - val_loss: 0.7009 - val_accuracy: 0.6896\n",
            "Epoch 22/30\n",
            "1261/1261 [==============================] - 5s 4ms/step - loss: 0.3974 - accuracy: 0.8051 - val_loss: 0.7032 - val_accuracy: 0.6837\n",
            "Epoch 23/30\n",
            "1261/1261 [==============================] - 5s 4ms/step - loss: 0.3864 - accuracy: 0.8093 - val_loss: 0.7195 - val_accuracy: 0.6857\n",
            "Epoch 24/30\n",
            "1261/1261 [==============================] - 5s 4ms/step - loss: 0.3944 - accuracy: 0.8034 - val_loss: 0.7146 - val_accuracy: 0.6883\n",
            "Epoch 25/30\n",
            "1261/1261 [==============================] - 5s 4ms/step - loss: 0.3933 - accuracy: 0.8087 - val_loss: 0.7276 - val_accuracy: 0.6812\n",
            "Epoch 26/30\n",
            "1261/1261 [==============================] - 5s 4ms/step - loss: 0.3862 - accuracy: 0.8097 - val_loss: 0.7194 - val_accuracy: 0.6915\n",
            "Epoch 27/30\n",
            "1261/1261 [==============================] - 5s 4ms/step - loss: 0.3820 - accuracy: 0.8120 - val_loss: 0.7263 - val_accuracy: 0.6876\n",
            "Epoch 28/30\n",
            "1261/1261 [==============================] - 5s 4ms/step - loss: 0.3818 - accuracy: 0.8091 - val_loss: 0.7194 - val_accuracy: 0.6909\n",
            "Epoch 29/30\n",
            "1261/1261 [==============================] - 5s 4ms/step - loss: 0.3844 - accuracy: 0.8114 - val_loss: 0.7272 - val_accuracy: 0.6916\n",
            "Epoch 30/30\n",
            "1261/1261 [==============================] - 5s 4ms/step - loss: 0.3880 - accuracy: 0.8096 - val_loss: 0.7325 - val_accuracy: 0.6800\n"
          ],
          "name": "stdout"
        }
      ]
    },
    {
      "cell_type": "code",
      "metadata": {
        "colab": {
          "base_uri": "https://localhost:8080/",
          "height": 501
        },
        "id": "e_5t60T0NRf7",
        "outputId": "3188ef34-aee8-4590-9e86-4f9473796201"
      },
      "source": [
        "plot_loss_acc(type_history)"
      ],
      "execution_count": null,
      "outputs": [
        {
          "output_type": "display_data",
          "data": {
            "image/png": "[encoded data removed]",
            "text/plain": [
              "<Figure size 1152x576 with 2 Axes>"
            ]
          },
          "metadata": {
            "tags": [],
            "needs_background": "light"
          }
        }
      ]
    },
    {
      "cell_type": "code",
      "metadata": {
        "id": "C3P1sote8ici"
      },
      "source": [
        "type_probability_model = tf.keras.Sequential([type_model, \n",
        "                                         tf.keras.layers.Softmax()])"
      ],
      "execution_count": null,
      "outputs": []
    },
    {
      "cell_type": "markdown",
      "metadata": {
        "id": "rwR5g_wJLgHD"
      },
      "source": [
        "## Keyword classification"
      ]
    },
    {
      "cell_type": "code",
      "metadata": {
        "id": "ko6gitM4DIWe"
      },
      "source": [
        "keyword_vocab_size = len(dart_keywords) + 1"
      ],
      "execution_count": null,
      "outputs": []
    },
    {
      "cell_type": "code",
      "metadata": {
        "id": "In1tQAW2CVra"
      },
      "source": [
        "keyword_sentences = keyword_classification_dataset['Text'].tolist()\n",
        "keyword_labels = keyword_target.tolist()\n",
        "\n",
        "keyword_training_size = int(len(keyword_sentences) * 0.8)\n",
        "keyword_training_text = keyword_sentences[:keyword_training_size]\n",
        "keyword_validation_text = keyword_sentences[keyword_training_size:]\n",
        "keyword_training_labels = np.array(keyword_labels[:keyword_training_size])\n",
        "keyword_validation_labels = np.array(keyword_labels[keyword_training_size:])"
      ],
      "execution_count": null,
      "outputs": []
    },
    {
      "cell_type": "code",
      "metadata": {
        "id": "7brL0uTBCWFx"
      },
      "source": [
        "keyword_tokenizer = Tokenizer(num_words=keyword_vocab_size, oov_token=oov_tok)\n",
        "keyword_tokenizer.fit_on_texts(keyword_training_text)"
      ],
      "execution_count": null,
      "outputs": []
    },
    {
      "cell_type": "code",
      "metadata": {
        "id": "oufo1P7FC2Ju"
      },
      "source": [
        "keyword_training_sequences = keyword_tokenizer.texts_to_sequences(keyword_training_text)\n",
        "keyword_training_padded = pad_sequences(keyword_training_sequences, maxlen=max_length, padding=padding_type, \n",
        "                       truncating=trunc_type)"
      ],
      "execution_count": null,
      "outputs": []
    },
    {
      "cell_type": "code",
      "metadata": {
        "id": "VKDIpgYfDYxb"
      },
      "source": [
        "keyword_validation_sequences = keyword_tokenizer.texts_to_sequences(keyword_validation_text)\n",
        "keyword_validation_padded = pad_sequences(keyword_validation_sequences, maxlen=max_length, \n",
        "                               padding=padding_type, truncating=trunc_type)"
      ],
      "execution_count": null,
      "outputs": []
    },
    {
      "cell_type": "code",
      "metadata": {
        "colab": {
          "base_uri": "https://localhost:8080/"
        },
        "id": "NMkOqWgYDfnV",
        "outputId": "3721e885-4751-4bf2-d0ab-96264ee0aaca"
      },
      "source": [
        "keyword_model = tf.keras.Sequential([\n",
        "    tf.keras.layers.Embedding(keyword_vocab_size, embedding_dim, input_length=max_length),\n",
        "    tf.keras.layers.Flatten(),\n",
        "    tf.keras.layers.Dense(128, activation='relu'),\n",
        "    tf.keras.layers.Dense(64, activation='relu'),\n",
        "    tf.keras.layers.Dense(keyword_vocab_size)\n",
        "])\n",
        "\n",
        "keyword_model.compile(loss=tf.keras.losses.SparseCategoricalCrossentropy(from_logits=True), optimizer='adam', metrics=['accuracy'])\n",
        "keyword_model.summary()"
      ],
      "execution_count": null,
      "outputs": [
        {
          "output_type": "stream",
          "text": [
            "Model: \"sequential_2\"\n",
            "_________________________________________________________________\n",
            "Layer (type)                 Output Shape              Param #   \n",
            "=================================================================\n",
            "embedding_1 (Embedding)      (None, 30, 32)            1984      \n",
            "_________________________________________________________________\n",
            "flatten_1 (Flatten)          (None, 960)               0         \n",
            "_________________________________________________________________\n",
            "dense_3 (Dense)              (None, 128)               123008    \n",
            "_________________________________________________________________\n",
            "dense_4 (Dense)              (None, 64)                8256      \n",
            "_________________________________________________________________\n",
            "dense_5 (Dense)              (None, 62)                4030      \n",
            "=================================================================\n",
            "Total params: 137,278\n",
            "Trainable params: 137,278\n",
            "Non-trainable params: 0\n",
            "_________________________________________________________________\n"
          ],
          "name": "stdout"
        }
      ]
    },
    {
      "cell_type": "code",
      "metadata": {
        "colab": {
          "base_uri": "https://localhost:8080/"
        },
        "id": "1f9YnkayDqzp",
        "outputId": "ac808ce4-fb1f-4d77-dcd2-77f5725feb9e"
      },
      "source": [
        "keyword_history = keyword_model.fit(keyword_training_padded, keyword_training_labels, epochs=num_epochs, validation_data=(keyword_validation_padded, keyword_validation_labels))"
      ],
      "execution_count": null,
      "outputs": [
        {
          "output_type": "stream",
          "text": [
            "Epoch 1/30\n",
            "13/13 [==============================] - 1s 21ms/step - loss: 4.0333 - accuracy: 0.2659 - val_loss: 3.7120 - val_accuracy: 0.0000e+00\n",
            "Epoch 2/30\n",
            "13/13 [==============================] - 0s 7ms/step - loss: 3.3091 - accuracy: 0.3634 - val_loss: 3.3587 - val_accuracy: 0.0000e+00\n",
            "Epoch 3/30\n",
            "13/13 [==============================] - 0s 7ms/step - loss: 2.6091 - accuracy: 0.3684 - val_loss: 2.6472 - val_accuracy: 0.0000e+00\n",
            "Epoch 4/30\n",
            "13/13 [==============================] - 0s 8ms/step - loss: 2.5207 - accuracy: 0.3747 - val_loss: 2.3857 - val_accuracy: 0.0000e+00\n",
            "Epoch 5/30\n",
            "13/13 [==============================] - 0s 8ms/step - loss: 2.3563 - accuracy: 0.3664 - val_loss: 2.1808 - val_accuracy: 0.0000e+00\n",
            "Epoch 6/30\n",
            "13/13 [==============================] - 0s 7ms/step - loss: 2.2797 - accuracy: 0.3659 - val_loss: 2.2496 - val_accuracy: 0.0000e+00\n",
            "Epoch 7/30\n",
            "13/13 [==============================] - 0s 7ms/step - loss: 2.2518 - accuracy: 0.3731 - val_loss: 2.2343 - val_accuracy: 0.0000e+00\n",
            "Epoch 8/30\n",
            "13/13 [==============================] - 0s 9ms/step - loss: 2.2188 - accuracy: 0.3720 - val_loss: 2.3042 - val_accuracy: 0.0000e+00\n",
            "Epoch 9/30\n",
            "13/13 [==============================] - 0s 8ms/step - loss: 2.3057 - accuracy: 0.3450 - val_loss: 2.2274 - val_accuracy: 0.0000e+00\n",
            "Epoch 10/30\n",
            "13/13 [==============================] - 0s 9ms/step - loss: 2.2286 - accuracy: 0.3802 - val_loss: 2.2333 - val_accuracy: 0.0000e+00\n",
            "Epoch 11/30\n",
            "13/13 [==============================] - 0s 8ms/step - loss: 2.2172 - accuracy: 0.3522 - val_loss: 2.2309 - val_accuracy: 0.0000e+00\n",
            "Epoch 12/30\n",
            "13/13 [==============================] - 0s 7ms/step - loss: 2.2505 - accuracy: 0.3509 - val_loss: 2.2025 - val_accuracy: 0.0000e+00\n",
            "Epoch 13/30\n",
            "13/13 [==============================] - 0s 7ms/step - loss: 2.1523 - accuracy: 0.3678 - val_loss: 2.2078 - val_accuracy: 0.0000e+00\n",
            "Epoch 14/30\n",
            "13/13 [==============================] - 0s 8ms/step - loss: 2.1709 - accuracy: 0.3431 - val_loss: 2.1941 - val_accuracy: 0.0000e+00\n",
            "Epoch 15/30\n",
            "13/13 [==============================] - 0s 8ms/step - loss: 2.0051 - accuracy: 0.3811 - val_loss: 2.0873 - val_accuracy: 0.0000e+00\n",
            "Epoch 16/30\n",
            "13/13 [==============================] - 0s 7ms/step - loss: 2.0570 - accuracy: 0.3699 - val_loss: 2.1603 - val_accuracy: 0.0000e+00\n",
            "Epoch 17/30\n",
            "13/13 [==============================] - 0s 7ms/step - loss: 1.9841 - accuracy: 0.4311 - val_loss: 2.1335 - val_accuracy: 0.0000e+00\n",
            "Epoch 18/30\n",
            "13/13 [==============================] - 0s 9ms/step - loss: 1.9779 - accuracy: 0.4349 - val_loss: 2.1502 - val_accuracy: 0.0000e+00\n",
            "Epoch 19/30\n",
            "13/13 [==============================] - 0s 7ms/step - loss: 1.8067 - accuracy: 0.4726 - val_loss: 2.1547 - val_accuracy: 0.0000e+00\n",
            "Epoch 20/30\n",
            "13/13 [==============================] - 0s 8ms/step - loss: 1.7383 - accuracy: 0.4713 - val_loss: 2.0819 - val_accuracy: 0.0000e+00\n",
            "Epoch 21/30\n",
            "13/13 [==============================] - 0s 7ms/step - loss: 1.8522 - accuracy: 0.4452 - val_loss: 2.1306 - val_accuracy: 0.0097\n",
            "Epoch 22/30\n",
            "13/13 [==============================] - 0s 8ms/step - loss: 1.7833 - accuracy: 0.4896 - val_loss: 2.1088 - val_accuracy: 0.0097\n",
            "Epoch 23/30\n",
            "13/13 [==============================] - 0s 7ms/step - loss: 1.6921 - accuracy: 0.5278 - val_loss: 2.0289 - val_accuracy: 0.0097\n",
            "Epoch 24/30\n",
            "13/13 [==============================] - 0s 8ms/step - loss: 1.6771 - accuracy: 0.5366 - val_loss: 1.9363 - val_accuracy: 0.0097\n",
            "Epoch 25/30\n",
            "13/13 [==============================] - 0s 7ms/step - loss: 1.5453 - accuracy: 0.5496 - val_loss: 2.0689 - val_accuracy: 0.0097\n",
            "Epoch 26/30\n",
            "13/13 [==============================] - 0s 8ms/step - loss: 1.5262 - accuracy: 0.5345 - val_loss: 2.0183 - val_accuracy: 0.0097\n",
            "Epoch 27/30\n",
            "13/13 [==============================] - 0s 8ms/step - loss: 1.4585 - accuracy: 0.5654 - val_loss: 2.0197 - val_accuracy: 0.0097\n",
            "Epoch 28/30\n",
            "13/13 [==============================] - 0s 7ms/step - loss: 1.5516 - accuracy: 0.5344 - val_loss: 2.0522 - val_accuracy: 0.0097\n",
            "Epoch 29/30\n",
            "13/13 [==============================] - 0s 7ms/step - loss: 1.5576 - accuracy: 0.5327 - val_loss: 1.9141 - val_accuracy: 0.0097\n",
            "Epoch 30/30\n",
            "13/13 [==============================] - 0s 10ms/step - loss: 1.3854 - accuracy: 0.5484 - val_loss: 2.1609 - val_accuracy: 0.0097\n"
          ],
          "name": "stdout"
        }
      ]
    },
    {
      "cell_type": "code",
      "metadata": {
        "colab": {
          "base_uri": "https://localhost:8080/",
          "height": 501
        },
        "id": "EJpn6h6SD2z2",
        "outputId": "a1275ca5-c8f1-42b0-e20f-29db819ad18f"
      },
      "source": [
        "plot_loss_acc(keyword_history)"
      ],
      "execution_count": null,
      "outputs": [
        {
          "output_type": "display_data",
          "data": {
            "image/png": "[encoded data removed]",
            "text/plain": [
              "<Figure size 1152x576 with 2 Axes>"
            ]
          },
          "metadata": {
            "tags": [],
            "needs_background": "light"
          }
        }
      ]
    },
    {
      "cell_type": "code",
      "metadata": {
        "id": "4wA7t686D5FM"
      },
      "source": [
        "keyword_probability_model = tf.keras.Sequential([keyword_model, \n",
        "                                         tf.keras.layers.Softmax()])"
      ],
      "execution_count": null,
      "outputs": []
    },
    {
      "cell_type": "markdown",
      "metadata": {
        "id": "CfTgJD1ZLhzs"
      },
      "source": [
        "## Operator classification"
      ]
    },
    {
      "cell_type": "code",
      "metadata": {
        "id": "CfHo5s8ja07-"
      },
      "source": [
        "operator_vocab_size = len(dart_operators) + 1"
      ],
      "execution_count": null,
      "outputs": []
    },
    {
      "cell_type": "code",
      "metadata": {
        "id": "Uu6nqhQXJU_H"
      },
      "source": [
        "operator_sentences = operator_classification_dataset['Text'].tolist()\n",
        "operator_labels = operator_target.tolist()\n",
        "\n",
        "operator_training_size = int(len(operator_sentences) * 0.8)\n",
        "operator_training_text = operator_sentences[:operator_training_size]\n",
        "operator_validation_text = operator_sentences[operator_training_size:]\n",
        "operator_training_labels = np.array(operator_labels[:operator_training_size])\n",
        "operator_validation_labels = np.array(operator_labels[operator_training_size:])"
      ],
      "execution_count": null,
      "outputs": []
    },
    {
      "cell_type": "code",
      "metadata": {
        "id": "vylwKYv9Jfo7"
      },
      "source": [
        "operator_tokenizer = Tokenizer(num_words=operator_vocab_size, oov_token=oov_tok)\n",
        "operator_tokenizer.fit_on_texts(operator_training_text)"
      ],
      "execution_count": null,
      "outputs": []
    },
    {
      "cell_type": "code",
      "metadata": {
        "id": "MBHlX35CJnbO"
      },
      "source": [
        "operator_training_sequences = operator_tokenizer.texts_to_sequences(operator_training_text)\n",
        "operator_training_padded = pad_sequences(operator_training_sequences, maxlen=max_length, padding=padding_type, \n",
        "                       truncating=trunc_type)"
      ],
      "execution_count": null,
      "outputs": []
    },
    {
      "cell_type": "code",
      "metadata": {
        "id": "Y4ZBm5W7JsT7"
      },
      "source": [
        "operator_validation_sequences = operator_tokenizer.texts_to_sequences(operator_validation_text)\n",
        "operator_validation_padded = pad_sequences(operator_validation_sequences, maxlen=max_length, \n",
        "                               padding=padding_type, truncating=trunc_type)"
      ],
      "execution_count": null,
      "outputs": []
    },
    {
      "cell_type": "code",
      "metadata": {
        "colab": {
          "base_uri": "https://localhost:8080/"
        },
        "id": "lK1I2ifYJxrs",
        "outputId": "ca9d92e9-31b4-4a87-eef3-7563f398735b"
      },
      "source": [
        "operator_model = tf.keras.Sequential([\n",
        "    tf.keras.layers.Embedding(operator_vocab_size, embedding_dim, input_length=max_length),\n",
        "    tf.keras.layers.Flatten(),\n",
        "    tf.keras.layers.Dense(128, activation='relu'),\n",
        "    tf.keras.layers.Dense(64, activation='relu'),\n",
        "    tf.keras.layers.Dense(operator_vocab_size)\n",
        "])\n",
        "\n",
        "operator_model.compile(loss=tf.keras.losses.SparseCategoricalCrossentropy(from_logits=True), optimizer='adam', metrics=['accuracy'])\n",
        "operator_model.summary()"
      ],
      "execution_count": null,
      "outputs": [
        {
          "output_type": "stream",
          "text": [
            "Model: \"sequential_4\"\n",
            "_________________________________________________________________\n",
            "Layer (type)                 Output Shape              Param #   \n",
            "=================================================================\n",
            "embedding_2 (Embedding)      (None, 30, 32)            1568      \n",
            "_________________________________________________________________\n",
            "flatten_2 (Flatten)          (None, 960)               0         \n",
            "_________________________________________________________________\n",
            "dense_6 (Dense)              (None, 128)               123008    \n",
            "_________________________________________________________________\n",
            "dense_7 (Dense)              (None, 64)                8256      \n",
            "_________________________________________________________________\n",
            "dense_8 (Dense)              (None, 49)                3185      \n",
            "=================================================================\n",
            "Total params: 136,017\n",
            "Trainable params: 136,017\n",
            "Non-trainable params: 0\n",
            "_________________________________________________________________\n"
          ],
          "name": "stdout"
        }
      ]
    },
    {
      "cell_type": "code",
      "metadata": {
        "colab": {
          "base_uri": "https://localhost:8080/"
        },
        "id": "dz4xxWJFJ42P",
        "outputId": "6fd4aebf-0439-48d7-a565-e0460a9356c4"
      },
      "source": [
        "operator_history = operator_model.fit(operator_training_padded, operator_training_labels, epochs=num_epochs, validation_data=(operator_validation_padded, operator_validation_labels))"
      ],
      "execution_count": null,
      "outputs": [
        {
          "output_type": "stream",
          "text": [
            "Epoch 1/30\n",
            "166/166 [==============================] - 1s 5ms/step - loss: 2.3865 - accuracy: 0.3403 - val_loss: 1.5477 - val_accuracy: 0.5173\n",
            "Epoch 2/30\n",
            "166/166 [==============================] - 1s 4ms/step - loss: 1.5470 - accuracy: 0.4557 - val_loss: 1.3133 - val_accuracy: 0.5053\n",
            "Epoch 3/30\n",
            "166/166 [==============================] - 1s 4ms/step - loss: 1.4339 - accuracy: 0.5004 - val_loss: 1.2305 - val_accuracy: 0.5317\n",
            "Epoch 4/30\n",
            "166/166 [==============================] - 1s 4ms/step - loss: 1.3758 - accuracy: 0.5071 - val_loss: 1.2415 - val_accuracy: 0.5317\n",
            "Epoch 5/30\n",
            "166/166 [==============================] - 1s 4ms/step - loss: 1.3984 - accuracy: 0.4938 - val_loss: 1.2031 - val_accuracy: 0.5317\n",
            "Epoch 6/30\n",
            "166/166 [==============================] - 1s 4ms/step - loss: 1.3660 - accuracy: 0.5001 - val_loss: 1.2035 - val_accuracy: 0.5317\n",
            "Epoch 7/30\n",
            "166/166 [==============================] - 1s 4ms/step - loss: 1.3427 - accuracy: 0.4977 - val_loss: 1.1829 - val_accuracy: 0.5324\n",
            "Epoch 8/30\n",
            "166/166 [==============================] - 1s 4ms/step - loss: 1.3612 - accuracy: 0.5099 - val_loss: 1.1747 - val_accuracy: 0.5445\n",
            "Epoch 9/30\n",
            "166/166 [==============================] - 1s 4ms/step - loss: 1.3368 - accuracy: 0.5091 - val_loss: 1.1707 - val_accuracy: 0.5317\n",
            "Epoch 10/30\n",
            "166/166 [==============================] - 1s 4ms/step - loss: 1.3374 - accuracy: 0.5083 - val_loss: 1.1820 - val_accuracy: 0.5332\n",
            "Epoch 11/30\n",
            "166/166 [==============================] - 1s 4ms/step - loss: 1.3398 - accuracy: 0.5014 - val_loss: 1.1705 - val_accuracy: 0.5566\n",
            "Epoch 12/30\n",
            "166/166 [==============================] - 1s 4ms/step - loss: 1.3231 - accuracy: 0.5028 - val_loss: 1.1724 - val_accuracy: 0.5566\n",
            "Epoch 13/30\n",
            "166/166 [==============================] - 1s 4ms/step - loss: 1.3196 - accuracy: 0.5119 - val_loss: 1.1790 - val_accuracy: 0.5445\n",
            "Epoch 14/30\n",
            "166/166 [==============================] - 1s 4ms/step - loss: 1.3073 - accuracy: 0.5193 - val_loss: 1.1949 - val_accuracy: 0.5566\n",
            "Epoch 15/30\n",
            "166/166 [==============================] - 1s 4ms/step - loss: 1.3560 - accuracy: 0.4813 - val_loss: 1.2243 - val_accuracy: 0.5324\n",
            "Epoch 16/30\n",
            "166/166 [==============================] - 1s 4ms/step - loss: 1.3313 - accuracy: 0.5114 - val_loss: 1.1849 - val_accuracy: 0.5317\n",
            "Epoch 17/30\n",
            "166/166 [==============================] - 1s 4ms/step - loss: 1.3190 - accuracy: 0.5045 - val_loss: 1.1701 - val_accuracy: 0.5437\n",
            "Epoch 18/30\n",
            "166/166 [==============================] - 1s 4ms/step - loss: 1.3121 - accuracy: 0.5062 - val_loss: 1.1865 - val_accuracy: 0.5211\n",
            "Epoch 19/30\n",
            "166/166 [==============================] - 1s 4ms/step - loss: 1.3313 - accuracy: 0.5106 - val_loss: 1.1874 - val_accuracy: 0.5324\n",
            "Epoch 20/30\n",
            "166/166 [==============================] - 1s 4ms/step - loss: 1.3172 - accuracy: 0.5092 - val_loss: 1.1674 - val_accuracy: 0.5317\n",
            "Epoch 21/30\n",
            "166/166 [==============================] - 1s 4ms/step - loss: 1.3439 - accuracy: 0.5029 - val_loss: 1.1729 - val_accuracy: 0.5317\n",
            "Epoch 22/30\n",
            "166/166 [==============================] - 1s 4ms/step - loss: 1.2763 - accuracy: 0.5216 - val_loss: 1.1910 - val_accuracy: 0.5445\n",
            "Epoch 23/30\n",
            "166/166 [==============================] - 1s 4ms/step - loss: 1.3110 - accuracy: 0.5060 - val_loss: 1.1663 - val_accuracy: 0.5317\n",
            "Epoch 24/30\n",
            "166/166 [==============================] - 1s 4ms/step - loss: 1.3318 - accuracy: 0.5012 - val_loss: 1.1815 - val_accuracy: 0.5445\n",
            "Epoch 25/30\n",
            "166/166 [==============================] - 1s 4ms/step - loss: 1.3307 - accuracy: 0.5030 - val_loss: 1.1724 - val_accuracy: 0.5075\n",
            "Epoch 26/30\n",
            "166/166 [==============================] - 1s 4ms/step - loss: 1.3170 - accuracy: 0.5018 - val_loss: 1.1837 - val_accuracy: 0.5317\n",
            "Epoch 27/30\n",
            "166/166 [==============================] - 1s 4ms/step - loss: 1.3153 - accuracy: 0.5237 - val_loss: 1.1997 - val_accuracy: 0.5204\n",
            "Epoch 28/30\n",
            "166/166 [==============================] - 1s 4ms/step - loss: 1.3370 - accuracy: 0.4909 - val_loss: 1.1594 - val_accuracy: 0.5324\n",
            "Epoch 29/30\n",
            "166/166 [==============================] - 1s 4ms/step - loss: 1.3067 - accuracy: 0.5128 - val_loss: 1.1753 - val_accuracy: 0.5317\n",
            "Epoch 30/30\n",
            "166/166 [==============================] - 1s 4ms/step - loss: 1.3387 - accuracy: 0.5043 - val_loss: 1.1690 - val_accuracy: 0.5566\n"
          ],
          "name": "stdout"
        }
      ]
    },
    {
      "cell_type": "code",
      "metadata": {
        "colab": {
          "base_uri": "https://localhost:8080/",
          "height": 501
        },
        "id": "2RvxKCb5J93p",
        "outputId": "2cba1a2c-05e2-4170-cbd3-c6a8ec9a1dc5"
      },
      "source": [
        "plot_loss_acc(operator_history)"
      ],
      "execution_count": null,
      "outputs": [
        {
          "output_type": "display_data",
          "data": {
            "image/png": "[encoded data removed]",
            "text/plain": [
              "<Figure size 1152x576 with 2 Axes>"
            ]
          },
          "metadata": {
            "tags": [],
            "needs_background": "light"
          }
        }
      ]
    },
    {
      "cell_type": "code",
      "metadata": {
        "id": "nfTtzViNKAJA"
      },
      "source": [
        "operator_probability_model = tf.keras.Sequential([operator_model, \n",
        "                                         tf.keras.layers.Softmax()])"
      ],
      "execution_count": null,
      "outputs": []
    },
    {
      "cell_type": "markdown",
      "metadata": {
        "id": "T4_WUtKmGLC-"
      },
      "source": [
        "## Exporting models"
      ]
    },
    {
      "cell_type": "code",
      "metadata": {
        "id": "8YIsQ2yWMfBz"
      },
      "source": [
        "def zipdir(path, ziph):\n",
        "    for root, dirs, files in os.walk(path):\n",
        "        for file in files:\n",
        "            ziph.write(os.path.join(root, file), \n",
        "                       os.path.relpath(os.path.join(root, file), \n",
        "                                       os.path.join(path, '..')))"
      ],
      "execution_count": null,
      "outputs": []
    },
    {
      "cell_type": "code",
      "metadata": {
        "colab": {
          "base_uri": "https://localhost:8080/"
        },
        "id": "fK3A_456KHAx",
        "outputId": "d7508f1c-9e2a-4a86-8015-d1f1edbd94e5"
      },
      "source": [
        "type_probability_model.save('type_model')"
      ],
      "execution_count": null,
      "outputs": [
        {
          "output_type": "stream",
          "text": [
            "INFO:tensorflow:Assets written to: type_model/assets\n"
          ],
          "name": "stdout"
        }
      ]
    },
    {
      "cell_type": "code",
      "metadata": {
        "id": "mA3DArfSMkPd"
      },
      "source": [
        "zipf = zipfile.ZipFile('type_model.zip', 'w', zipfile.ZIP_DEFLATED)\n",
        "zipdir('type_model/', zipf)"
      ],
      "execution_count": null,
      "outputs": []
    },
    {
      "cell_type": "code",
      "metadata": {
        "colab": {
          "base_uri": "https://localhost:8080/"
        },
        "id": "lssfUj0NKJQg",
        "outputId": "8cc5b524-78e0-4ae0-efe4-ec1b698f721b"
      },
      "source": [
        "keyword_probability_model.save('keyword_model')"
      ],
      "execution_count": null,
      "outputs": [
        {
          "output_type": "stream",
          "text": [
            "INFO:tensorflow:Assets written to: keyword_model/assets\n"
          ],
          "name": "stdout"
        }
      ]
    },
    {
      "cell_type": "code",
      "metadata": {
        "id": "TY_G9bcRMnFd"
      },
      "source": [
        "zipf = zipfile.ZipFile('keyword_model.zip', 'w', zipfile.ZIP_DEFLATED)\n",
        "zipdir('keyword_model/', zipf)"
      ],
      "execution_count": null,
      "outputs": []
    },
    {
      "cell_type": "code",
      "metadata": {
        "colab": {
          "base_uri": "https://localhost:8080/"
        },
        "id": "Cabsvu3qKTte",
        "outputId": "9327023d-0ac3-44b4-936a-e8979176fa43"
      },
      "source": [
        "operator_probability_model.save('operator_model')"
      ],
      "execution_count": null,
      "outputs": [
        {
          "output_type": "stream",
          "text": [
            "INFO:tensorflow:Assets written to: operator_model/assets\n"
          ],
          "name": "stdout"
        }
      ]
    },
    {
      "cell_type": "code",
      "metadata": {
        "id": "wOZsxOufKWQ6"
      },
      "source": [
        "zipf = zipfile.ZipFile('operator_model.zip', 'w', zipfile.ZIP_DEFLATED)\n",
        "zipdir('operator_model/', zipf)"
      ],
      "execution_count": null,
      "outputs": []
    },
    {
      "cell_type": "code",
      "metadata": {
        "id": "UMyLPmkgMrzU"
      },
      "source": [
        "zipf.close()"
      ],
      "execution_count": null,
      "outputs": []
    },
    {
      "cell_type": "code",
      "metadata": {
        "id": "AascX0ynJ79z"
      },
      "source": [
        "type_tokenizer_json = type_tokenizer.to_json()\n",
        "with io.open('type_tokenizer.json', 'w', encoding='utf-8') as f:\n",
        "    f.write(json.dumps(type_tokenizer_json, ensure_ascii=False))"
      ],
      "execution_count": 34,
      "outputs": []
    },
    {
      "cell_type": "code",
      "metadata": {
        "id": "4d1p0yROKMnt"
      },
      "source": [
        "keyword_tokenizer_json = keyword_tokenizer.to_json()\n",
        "with io.open('keyword_tokenizer.json', 'w', encoding='utf-8') as f:\n",
        "    f.write(json.dumps(keyword_tokenizer_json, ensure_ascii=False))"
      ],
      "execution_count": null,
      "outputs": []
    },
    {
      "cell_type": "code",
      "metadata": {
        "id": "bUTKt_bVKRqv"
      },
      "source": [
        "operator_tokenizer_json = operator_tokenizer.to_json()\n",
        "with io.open('operator_tokenizer.json', 'w', encoding='utf-8') as f:\n",
        "    f.write(json.dumps(operator_tokenizer_json, ensure_ascii=False))"
      ],
      "execution_count": null,
      "outputs": []
    },
    {
      "cell_type": "markdown",
      "metadata": {
        "id": "89omJ31-LmBg"
      },
      "source": [
        "## Combining result"
      ]
    },
    {
      "cell_type": "code",
      "metadata": {
        "id": "odyiFS5SK24t"
      },
      "source": [
        "def download(file_name, url):\n",
        "  r = requests.get(url, allow_redirects=True)\n",
        "  open(file_name, 'wb').write(r.content)"
      ],
      "execution_count": 39,
      "outputs": []
    },
    {
      "cell_type": "code",
      "metadata": {
        "id": "qpC7kyu0K7x8"
      },
      "source": [
        "def unzip(file_name):\n",
        "  zip_ref = zipfile.ZipFile(file_name, \"r\")\n",
        "  zip_ref.extractall()\n",
        "  zip_ref.close()"
      ],
      "execution_count": 40,
      "outputs": []
    },
    {
      "cell_type": "code",
      "metadata": {
        "id": "95seO9MUVl_A"
      },
      "source": [
        "def download_and_unzip(file_name, url):\n",
        "  download(file_name, url)\n",
        "  unzip(file_name)"
      ],
      "execution_count": 41,
      "outputs": []
    },
    {
      "cell_type": "code",
      "metadata": {
        "id": "Jvku28AsLEE8"
      },
      "source": [
        "def initilize_model_from_internet():\n",
        "  github_url = 'https://github.com/Pittawat2542/dart-ml-autocomplete/raw/master/'\n",
        "  type_model_name = 'type_model_v2.zip'\n",
        "  keyword_model_name = 'keyword_model_v2.zip'\n",
        "  operator_model_name = 'operator_model_v2.zip'\n",
        "  type_tokenizer_name = 'type_tokenizer.json'\n",
        "  keyword_tokenizer_name = 'keyword_tokenizer.json'\n",
        "  operator_tokenizer_name = 'operator_tokenizer.json'\n",
        "\n",
        "  download_and_unzip(type_model_name, f'{github_url}{type_model_name}')\n",
        "  download_and_unzip(keyword_model_name, f'{github_url}{keyword_model_name}')\n",
        "  download_and_unzip(operator_model_name, f'{github_url}{operator_model_name}')\n",
        "  download(type_tokenizer_name, f'{github_url}{type_tokenizer_name}')\n",
        "  download(keyword_tokenizer_name, f'{github_url}{keyword_tokenizer_name}')\n",
        "  download(operator_tokenizer_name, f'{github_url}{operator_tokenizer_name}')"
      ],
      "execution_count": 48,
      "outputs": []
    },
    {
      "cell_type": "code",
      "metadata": {
        "id": "WQV8bJvZNFZP"
      },
      "source": [
        "def get_models():\n",
        "  loaded_type_model = tf.keras.models.load_model('type_model', compile=False)\n",
        "  loaded_keyword_model = tf.keras.models.load_model('keyword_model', compile=False)\n",
        "  loaded_operator_model = tf.keras.models.load_model('operator_model', compile=False)\n",
        "\n",
        "  return (loaded_type_model, loaded_keyword_model, loaded_operator_model)"
      ],
      "execution_count": 53,
      "outputs": []
    },
    {
      "cell_type": "code",
      "metadata": {
        "id": "SdQLYNVlNEW-"
      },
      "source": [
        "def get_tokenizers():\n",
        "  with open('type_tokenizer.json') as f:\n",
        "    data = json.load(f)\n",
        "    loaded_type_tokenizer = tokenizer_from_json(data)\n",
        "\n",
        "  with open('keyword_tokenizer.json') as f:\n",
        "    data = json.load(f)\n",
        "    loaded_keyword_tokenizer = tokenizer_from_json(data)\n",
        "\n",
        "  with open('operator_tokenizer.json') as f:\n",
        "    data = json.load(f)\n",
        "    loaded_operator_tokenizer = tokenizer_from_json(data)\n",
        "\n",
        "  return (loaded_type_tokenizer, loaded_keyword_tokenizer, loaded_operator_tokenizer)"
      ],
      "execution_count": 44,
      "outputs": []
    },
    {
      "cell_type": "code",
      "metadata": {
        "id": "1kX1DwOPGQAL"
      },
      "source": [
        "def predict_next_n_words(text, n):\n",
        "  loaded_type_model, loaded_keyword_model, loaded_operator_model = get_models()\n",
        "  loaded_type_tokenizer, loaded_keyword_tokenizer, loaded_operator_tokenizer = get_tokenizers()\n",
        "  \n",
        "  t = list(filter(None, re.split(r'( |\\n|:|\\.|[()])', text)))\n",
        "  for i in range(n):\n",
        "    input_text = ''.join(t)\n",
        "    sequences = loaded_type_tokenizer.texts_to_sequences([input_text])\n",
        "    padded = pad_sequences(sequences, padding=padding_type, maxlen=max_length)\n",
        "    predicted_type = type_classification_labels[np.argmax(loaded_type_model.predict(padded))]\n",
        "\n",
        "    next_word = ''\n",
        "    if predicted_type == 'SPACE':\n",
        "      next_word = ' '\n",
        "    elif predicted_type == 'NEWLINE':\n",
        "      next_word = '\\n'\n",
        "    elif predicted_type == 'KEYWORD':\n",
        "      sequences = loaded_keyword_tokenizer.texts_to_sequences([input_text])\n",
        "      padded = pad_sequences(sequences, padding=padding_type, maxlen=max_length)\n",
        "      next_word = keyword_classification_labels[np.argmax(loaded_keyword_model.predict(padded))]\n",
        "    elif predicted_type == 'OPERATOR':\n",
        "      sequences = loaded_operator_tokenizer.texts_to_sequences([input_text])\n",
        "      padded = pad_sequences(sequences, padding=padding_type, maxlen=max_length)\n",
        "      next_word = operator_classification_labels[np.argmax(loaded_operator_model.predict(padded))]\n",
        "    else:\n",
        "      next_word = OUT_OF_VOCABULARY\n",
        "    \n",
        "    t.append(next_word)\n",
        "\n",
        "  return ''.join(t)"
      ],
      "execution_count": 45,
      "outputs": []
    },
    {
      "cell_type": "code",
      "metadata": {
        "id": "pvcXtgrmUPJ1"
      },
      "source": [
        "def get_next_word_top_n(text, n):\n",
        "  loaded_type_model, loaded_keyword_model, loaded_operator_model = get_models()\n",
        "  loaded_type_tokenizer, loaded_keyword_tokenizer, loaded_operator_tokenizer = get_tokenizers()\n",
        "\n",
        "  next_words = []\n",
        "  sequences = loaded_type_tokenizer.texts_to_sequences([text])\n",
        "  padded = pad_sequences(sequences, padding=padding_type, maxlen=max_length)\n",
        "  predicted_type = loaded_type_model.predict(padded)\n",
        "\n",
        "  sequences = loaded_keyword_tokenizer.texts_to_sequences([text])\n",
        "  padded = pad_sequences(sequences, padding=padding_type, maxlen=max_length)\n",
        "  keyword_predictions = loaded_keyword_model.predict(padded)\n",
        "\n",
        "  sequences = loaded_operator_tokenizer.texts_to_sequences([text])\n",
        "  padded = pad_sequences(sequences, padding=padding_type, maxlen=max_length)\n",
        "  operator_predictions = loaded_operator_model.predict(padded)\n",
        "\n",
        "  for i, pred in enumerate(keyword_predictions[0]):\n",
        "    result = (keyword_classification_labels[i], pred * predicted_type[0][0])\n",
        "    next_words.append(result)\n",
        "  \n",
        "  for i, pred in enumerate(operator_predictions[0]):\n",
        "    result = (operator_classification_labels[i], pred * predicted_type[0][1])\n",
        "    next_words.append(result)\n",
        "\n",
        "  space_result = (' ', predicted_type[0][2])\n",
        "  next_words.append(space_result)\n",
        "\n",
        "  newline_result = ('\\n', predicted_type[0][3])\n",
        "  next_words.append(newline_result)\n",
        "\n",
        "  oov_result = (OUT_OF_VOCABULARY, predicted_type[0][4])\n",
        "  next_words.append(oov_result) \n",
        "\n",
        "  next_words.sort(key=lambda x: x[1], reverse=True)\n",
        "\n",
        "  if (len(next_words) < n):\n",
        "    return next_words\n",
        "\n",
        "  return next_words[:n]"
      ],
      "execution_count": 60,
      "outputs": []
    },
    {
      "cell_type": "markdown",
      "metadata": {
        "id": "wt8nUU_jLqF0"
      },
      "source": [
        "# Predicting"
      ]
    },
    {
      "cell_type": "code",
      "metadata": {
        "id": "ggYjPLqpL6HT"
      },
      "source": [
        "initilize_model_from_internet()"
      ],
      "execution_count": 56,
      "outputs": []
    },
    {
      "cell_type": "code",
      "metadata": {
        "id": "jkQjuN4tOcgw"
      },
      "source": [
        "test_text = 'const icon = IconData('"
      ],
      "execution_count": 57,
      "outputs": []
    },
    {
      "cell_type": "code",
      "metadata": {
        "colab": {
          "base_uri": "https://localhost:8080/"
        },
        "id": "VoXgvqXOV8ap",
        "outputId": "b84b3813-a1fb-44a8-8d39-aa37f906c9a9"
      },
      "source": [
        "result = predict_next_n_words(test_text, 1)\n",
        "print(f'Input: \\'{test_text}\\'')\n",
        "print(f'Output: \\'{result}\\'')"
      ],
      "execution_count": 63,
      "outputs": [
        {
          "output_type": "stream",
          "text": [
            "WARNING:tensorflow:11 out of the last 11 calls to <function Model.make_predict_function.<locals>.predict_function at 0x7f01ebfa67a0> triggered tf.function retracing. Tracing is expensive and the excessive number of tracings could be due to (1) creating @tf.function repeatedly in a loop, (2) passing tensors with different shapes, (3) passing Python objects instead of tensors. For (1), please define your @tf.function outside of the loop. For (2), @tf.function has experimental_relax_shapes=True option that relaxes argument shapes that can avoid unnecessary retracing. For (3), please refer to https://www.tensorflow.org/guide/function#controlling_retracing and https://www.tensorflow.org/api_docs/python/tf/function for  more details.\n",
            "Input: 'const icon = IconData('\n",
            "Output: 'const icon = IconData( '\n"
          ],
          "name": "stdout"
        }
      ]
    },
    {
      "cell_type": "code",
      "metadata": {
        "colab": {
          "base_uri": "https://localhost:8080/"
        },
        "id": "9aNWmDtuU9HF",
        "outputId": "7a9218bc-2a20-4257-cb4e-ae5b062c2901"
      },
      "source": [
        "results = get_next_word_top_n('const icon = IconData(', 10)\n",
        "print(f'Input: \\'{test_text}\\'')\n",
        "print('Output:')\n",
        "for i, (word, prediction) in enumerate(results):\n",
        "  print(f'{i + 1}: \\'{word}\\' - {round(prediction * 100, 2)}%')"
      ],
      "execution_count": 73,
      "outputs": [
        {
          "output_type": "stream",
          "text": [
            "WARNING:tensorflow:11 out of the last 11 calls to <function Model.make_predict_function.<locals>.predict_function at 0x7f01ebfa0320> triggered tf.function retracing. Tracing is expensive and the excessive number of tracings could be due to (1) creating @tf.function repeatedly in a loop, (2) passing tensors with different shapes, (3) passing Python objects instead of tensors. For (1), please define your @tf.function outside of the loop. For (2), @tf.function has experimental_relax_shapes=True option that relaxes argument shapes that can avoid unnecessary retracing. For (3), please refer to https://www.tensorflow.org/guide/function#controlling_retracing and https://www.tensorflow.org/api_docs/python/tf/function for  more details.\n",
            "WARNING:tensorflow:11 out of the last 11 calls to <function Model.make_predict_function.<locals>.predict_function at 0x7f01ec475b90> triggered tf.function retracing. Tracing is expensive and the excessive number of tracings could be due to (1) creating @tf.function repeatedly in a loop, (2) passing tensors with different shapes, (3) passing Python objects instead of tensors. For (1), please define your @tf.function outside of the loop. For (2), @tf.function has experimental_relax_shapes=True option that relaxes argument shapes that can avoid unnecessary retracing. For (3), please refer to https://www.tensorflow.org/guide/function#controlling_retracing and https://www.tensorflow.org/api_docs/python/tf/function for  more details.\n",
            "WARNING:tensorflow:11 out of the last 11 calls to <function Model.make_predict_function.<locals>.predict_function at 0x7f01ec58b680> triggered tf.function retracing. Tracing is expensive and the excessive number of tracings could be due to (1) creating @tf.function repeatedly in a loop, (2) passing tensors with different shapes, (3) passing Python objects instead of tensors. For (1), please define your @tf.function outside of the loop. For (2), @tf.function has experimental_relax_shapes=True option that relaxes argument shapes that can avoid unnecessary retracing. For (3), please refer to https://www.tensorflow.org/guide/function#controlling_retracing and https://www.tensorflow.org/api_docs/python/tf/function for  more details.\n",
            "Input: 'const icon = IconData('\n",
            "Output:\n",
            "1: ' ' - 88.49%\n",
            "2: ')' - 2.64%\n",
            "3: ';' - 1.39%\n",
            "4: '(' - 0.81%\n",
            "5: 'const' - 0.65%\n",
            "6: 'return' - 0.34%\n",
            "7: 'final' - 0.3%\n",
            "8: 'if' - 0.28%\n",
            "9: 'this' - 0.25%\n",
            "10: '.' - 0.23%\n"
          ],
          "name": "stdout"
        }
      ]
    }
  ]
}