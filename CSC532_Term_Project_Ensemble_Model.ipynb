{
  "nbformat": 4,
  "nbformat_minor": 0,
  "metadata": {
    "colab": {
      "name": "CSC532_Term_Project_Ensemble_Model.ipynb",
      "provenance": [],
      "toc_visible": true
    },
    "kernelspec": {
      "display_name": "Python 3",
      "name": "python3"
    },
    "language_info": {
      "name": "python"
    }
  },
  "cells": [
    {
      "cell_type": "markdown",
      "metadata": {
        "id": "_Z_gVBdoLQ1Z"
      },
      "source": [
        "# Import required dependencies"
      ]
    },
    {
      "cell_type": "code",
      "metadata": {
        "id": "3JRn96_ZgZyH"
      },
      "source": [
        "import re\n",
        "import os\n",
        "import zipfile\n",
        "import requests\n",
        "import nltk\n",
        "import pandas as pd\n",
        "import numpy as np\n",
        "import tensorflow as tf\n",
        "import matplotlib.pyplot as plt\n",
        "\n",
        "from nltk.corpus import words\n",
        "from tensorflow.keras.preprocessing.text import Tokenizer\n",
        "from tensorflow.keras.preprocessing.sequence import pad_sequences"
      ],
      "execution_count": 1,
      "outputs": []
    },
    {
      "cell_type": "code",
      "metadata": {
        "colab": {
          "base_uri": "https://localhost:8080/"
        },
        "id": "3uUxwIL92QBm",
        "outputId": "1745b417-5a9e-4cc6-ad23-fd5def79a88f"
      },
      "source": [
        "print(tf.__version__)"
      ],
      "execution_count": 2,
      "outputs": [
        {
          "output_type": "stream",
          "text": [
            "2.4.1\n"
          ],
          "name": "stdout"
        }
      ]
    },
    {
      "cell_type": "code",
      "metadata": {
        "colab": {
          "base_uri": "https://localhost:8080/"
        },
        "id": "8TXNJQLugzKC",
        "outputId": "fd9d5096-ddba-41d9-a36e-c8b20ddd2cea"
      },
      "source": [
        "nltk.download('words')"
      ],
      "execution_count": 3,
      "outputs": [
        {
          "output_type": "stream",
          "text": [
            "[nltk_data] Downloading package words to /root/nltk_data...\n",
            "[nltk_data]   Package words is already up-to-date!\n"
          ],
          "name": "stdout"
        },
        {
          "output_type": "execute_result",
          "data": {
            "text/plain": [
              "True"
            ]
          },
          "metadata": {
            "tags": []
          },
          "execution_count": 3
        }
      ]
    },
    {
      "cell_type": "markdown",
      "metadata": {
        "id": "Q3-vopITLUJN"
      },
      "source": [
        "# Prepare dataset and configuration"
      ]
    },
    {
      "cell_type": "code",
      "metadata": {
        "id": "dSiqMwqBH2Kf"
      },
      "source": [
        "OUT_OF_VOCABULARY = '<OOV>'\n",
        "LENGTH_TO_CONSIDER = 30"
      ],
      "execution_count": 4,
      "outputs": []
    },
    {
      "cell_type": "code",
      "metadata": {
        "colab": {
          "base_uri": "https://localhost:8080/"
        },
        "id": "nc8DprtUiIfe",
        "outputId": "d3e1984c-2fa9-4726-c1ba-f8558a21b6a4"
      },
      "source": [
        "file_name = 'source_code.txt'\n",
        "file_url = 'https://github.com/Pittawat2542/dart-ml-autocomplete/raw/master/dataset_collector/source_code.txt'\n",
        "r = requests.get(file_url, allow_redirects=True)\n",
        "open(file_name, 'wb').write(r.content)"
      ],
      "execution_count": 5,
      "outputs": [
        {
          "output_type": "execute_result",
          "data": {
            "text/plain": [
              "5148815"
            ]
          },
          "metadata": {
            "tags": []
          },
          "execution_count": 5
        }
      ]
    },
    {
      "cell_type": "code",
      "metadata": {
        "id": "RnyuuRkEfCT_"
      },
      "source": [
        "dart_keywords = [\"abstract\", \"else\", \"import\", \"super\", \"as\", \"enum\", \"in\", \"switch\", \"assert\", \"export\", \"interface\", \"sync\", \"async\", \"extends\", \"is\", \"this\", \"await\", \"extension\", \"library\", \"throw\", \"break\", \"external\", \"mixin\", \"true\", \"case\", \"factory\", \"new\", \"try\", \"catch\", \"false\", \"null\", \"typedef\", \"class\", \"final\", \"on\", \"var\", \"const\", \"finally\", \"operator\", \"void\", \"continue\", \"for\", \"part\", \"while\", \"covariant\", \"Function\", \"rethrow\", \"with\", \"default\", \"get\", \"return\", \"yield\", \"deferred\", \"hide\", \"set\", \"do\", \"if\", \"show\", \"dynamic\", \"implements\", \"static\"]\n",
        "dart_operators = [\";\", \">\", \"<\", \">=\", \"<=\", \"==\", \"!=\", \"=\", \"(\", \")\", \"[\", \"]\", \"{\", \"}\", \"&&\", \"||\", \"!\", \"&\", \"|\", \"^\", \"~\", \"++\", \"--\", \".\", \"?.\", \"+\", \"-\", \"*\", \"/\", \"%\", \"+=\", \"-=\", \"*=\", \"/=\", \"%=\", \"~/\", \">>\", \"<<\", \">>>\", \"?\", \":\", \"..\", \"?..\", \"^=\", \"&=\", \"|=\", \"??\", \"=>\"]\n",
        "english_dictionary = words.words()\n",
        "training_data = open(file_name, 'rb').read().decode(encoding='utf-8')"
      ],
      "execution_count": 6,
      "outputs": []
    },
    {
      "cell_type": "code",
      "metadata": {
        "id": "PFEGjVc7EKcn"
      },
      "source": [
        "type_classification_labels = ['KEYWORD', 'OPERATORS', 'SPACE', 'NEWLINE', 'DICTIONARY']\n",
        "\n",
        "keyword_classification_labels = [w for w in dart_keywords]\n",
        "keyword_classification_labels.append(OUT_OF_VOCABULARY)\n",
        "\n",
        "operator_classification_labels = [w for w in dart_operators]\n",
        "operator_classification_labels.append(OUT_OF_VOCABULARY)"
      ],
      "execution_count": 7,
      "outputs": []
    },
    {
      "cell_type": "code",
      "metadata": {
        "colab": {
          "base_uri": "https://localhost:8080/"
        },
        "id": "yXGZPGfViRN1",
        "outputId": "e98ad1fd-bced-4c6a-ea34-e1538fba7bb0"
      },
      "source": [
        "training_data = re.sub(r\"//.*\", \"\", training_data) # remove comment\n",
        "training_data = re.sub(r\"import.*\", \"\", training_data) # remove import\n",
        "training_data = re.sub(r\"export.*\", \"\", training_data) # remove export\n",
        "training_data = re.sub(r\"^(?:[\\t ]*(?:\\r?\\n|\\r))+\", \"\", training_data) # remove blank line\n",
        "training_data = re.sub(r\"^(\\s*\\r\\n){2,}\", \"\\r\\n\", training_data) # replace multiple blank lines with one\n",
        "training_data = re.sub(r\"^\\s*$\", \"\", training_data) # remove line with only spaces\n",
        "training_data = training_data.replace('\\n', '').replace(';', ';\\n')\n",
        "print(training_data[:250])"
      ],
      "execution_count": 8,
      "outputs": [
        {
          "output_type": "stream",
          "text": [
            "final Context posix = Context(style: Style.posix);\n",
            "final Context windows = Context(style: Style.windows);\n",
            "final Context url = Context(style: Style.url);\n",
            "final Context context = createInternal();\n",
            "Style get style => context.style;\n",
            "String get current { \n"
          ],
          "name": "stdout"
        }
      ]
    },
    {
      "cell_type": "markdown",
      "metadata": {
        "id": "CEF9y-RKLbWz"
      },
      "source": [
        "# Prepare dataset for model training"
      ]
    },
    {
      "cell_type": "code",
      "metadata": {
        "id": "qBS1_VOuBMP0"
      },
      "source": [
        "training_data_arr = list(filter(None, re.split(r'( |\\n|:|\\.|[()])', training_data)))"
      ],
      "execution_count": 9,
      "outputs": []
    },
    {
      "cell_type": "code",
      "metadata": {
        "id": "xls8qH_aKZ4a"
      },
      "source": [
        "type_classification_dataset = {\n",
        "    'Text': [],\n",
        "    'Label': []\n",
        "}\n",
        "\n",
        "for i in range(0, len(training_data_arr) - LENGTH_TO_CONSIDER, 30):\n",
        "  next_word = training_data_arr[i+LENGTH_TO_CONSIDER]\n",
        "  label = ''\n",
        "  if next_word in dart_keywords:\n",
        "    label = 0\n",
        "  elif next_word in dart_operators:\n",
        "    label = 1\n",
        "  elif next_word == ' ':\n",
        "    label = 2\n",
        "  elif next_word == '\\n':\n",
        "    label = 3\n",
        "  else:\n",
        "    label = 4\n",
        "  \n",
        "  type_classification_dataset['Text'].append(''.join(training_data_arr[i:i+LENGTH_TO_CONSIDER]))\n",
        "  type_classification_dataset['Label'].append(label)\n",
        "\n",
        "type_classification_dataset = pd.DataFrame(type_classification_dataset)\n",
        "type_target = type_classification_dataset.pop('Label')\n",
        "type_dataset = tf.data.Dataset.from_tensor_slices((type_classification_dataset.values, type_target.values))"
      ],
      "execution_count": 10,
      "outputs": []
    },
    {
      "cell_type": "code",
      "metadata": {
        "id": "DwkW02hGBBG4"
      },
      "source": [
        "keyword_classification_dataset = {\n",
        "    'Text': [],\n",
        "    'Label': []\n",
        "}\n",
        "\n",
        "training_data_arr_temp = [w for w in training_data_arr]\n",
        "\n",
        "for i, word in enumerate(training_data_arr_temp):\n",
        "  if word not in dart_keywords:\n",
        "    training_data_arr_temp[i] = OUT_OF_VOCABULARY\n",
        "\n",
        "for i in range(0, len(training_data_arr_temp) - LENGTH_TO_CONSIDER, 30):\n",
        "  next_word = training_data_arr_temp[i+LENGTH_TO_CONSIDER]\n",
        "  if next_word != OUT_OF_VOCABULARY:\n",
        "    keyword_classification_dataset['Text'].append(''.join(training_data_arr_temp[i:i+LENGTH_TO_CONSIDER]))\n",
        "    keyword_classification_dataset['Label'].append(keyword_classification_labels.index(next_word))\n",
        "\n",
        "keyword_classification_dataset = pd.DataFrame(keyword_classification_dataset)\n",
        "keyword_target = keyword_classification_dataset.pop('Label')\n",
        "keyword_dataset = tf.data.Dataset.from_tensor_slices((keyword_classification_dataset.values, keyword_target.values))"
      ],
      "execution_count": 11,
      "outputs": []
    },
    {
      "cell_type": "code",
      "metadata": {
        "id": "6Y2iwxfQGutI"
      },
      "source": [
        "operator_classification_dataset = {\n",
        "    'Text': [],\n",
        "    'Label': []\n",
        "}\n",
        "\n",
        "training_data_arr_temp = [w for w in training_data_arr]\n",
        "\n",
        "for i, word in enumerate(training_data_arr_temp):\n",
        "  if word not in dart_operators:\n",
        "    training_data_arr_temp[i] = OUT_OF_VOCABULARY\n",
        "\n",
        "for i in range(0, len(training_data_arr_temp) - LENGTH_TO_CONSIDER, 30):\n",
        "  next_word = training_data_arr_temp[i+LENGTH_TO_CONSIDER]\n",
        "  if next_word != OUT_OF_VOCABULARY:\n",
        "    operator_classification_dataset['Text'].append(''.join(training_data_arr_temp[i:i+LENGTH_TO_CONSIDER]))\n",
        "    operator_classification_dataset['Label'].append(operator_classification_labels.index(next_word))\n",
        "\n",
        "operator_classification_dataset = pd.DataFrame(operator_classification_dataset)\n",
        "operator_target = operator_classification_dataset.pop('Label')\n",
        "operator_dataset = tf.data.Dataset.from_tensor_slices((operator_classification_dataset.values, operator_target.values))"
      ],
      "execution_count": 12,
      "outputs": []
    },
    {
      "cell_type": "code",
      "metadata": {
        "colab": {
          "base_uri": "https://localhost:8080/"
        },
        "id": "_TVH43zqHKJN",
        "cellView": "form",
        "outputId": "0f1742d8-8d0d-4495-d732-a4d75affb7af"
      },
      "source": [
        "#@title\n",
        "dictionary_classification_dataset = {\n",
        "    'Text': [],\n",
        "    'Label': []\n",
        "}\n",
        "\n",
        "training_data_arr_temp = [w for w in training_data_arr]\n",
        "\n",
        "for i, word in enumerate(training_data_arr_temp):\n",
        "  if word in dart_keywords or word in dart_operators or word == ' ' or word == '\\n':\n",
        "    training_data_arr_temp[i] = OUT_OF_VOCABULARY\n",
        "\n",
        "for i in range(0, len(training_data_arr_temp) - LENGTH_TO_CONSIDER, 30):\n",
        "  dictionary_classification_dataset['Text'].append(''.join(training_data_arr_temp[i:i+LENGTH_TO_CONSIDER]))\n",
        "  dictionary_classification_dataset['Label'].append(training_data_arr_temp[i+LENGTH_TO_CONSIDER])\n",
        "\n",
        "dictionary_classification_dataset = pd.DataFrame(dictionary_classification_dataset)\n",
        "\n",
        "dictionary_target = dictionary_classification_dataset.pop('Label')\n",
        "\n",
        "dictionary_dataset = tf.data.Dataset.from_tensor_slices((dictionary_classification_dataset.values, dictionary_target.values))\n",
        "\n",
        "for feat, targ in dictionary_dataset.take(5):\n",
        "  print ('Features: {}, Target: {}'.format(feat, targ))"
      ],
      "execution_count": 13,
      "outputs": [
        {
          "output_type": "stream",
          "text": [
            "Features: [b'<OOV><OOV>Context<OOV>posix<OOV><OOV><OOV>Context<OOV>style<OOV><OOV>Style<OOV>posix<OOV><OOV><OOV><OOV><OOV>Context<OOV>windows<OOV><OOV><OOV>Context<OOV>style'], Target: b'<OOV>'\n",
            "Features: [b'<OOV><OOV>Style<OOV>windows<OOV><OOV><OOV><OOV><OOV>Context<OOV>url<OOV><OOV><OOV>Context<OOV>style<OOV><OOV>Style<OOV>url<OOV><OOV><OOV><OOV><OOV>Context'], Target: b'<OOV>'\n",
            "Features: [b'<OOV>context<OOV><OOV><OOV>createInternal<OOV><OOV><OOV><OOV>Style<OOV><OOV><OOV>style<OOV><OOV><OOV>context<OOV>style;<OOV>String<OOV><OOV><OOV>current<OOV><OOV><OOV>'], Target: b'<OOV>'\n",
            "Features: [b'<OOV><OOV><OOV><OOV><OOV><OOV><OOV><OOV><OOV>Uri<OOV>uri;<OOV><OOV><OOV><OOV><OOV><OOV><OOV><OOV><OOV><OOV>uri<OOV><OOV><OOV>Uri<OOV>base;<OOV>'], Target: b'<OOV>'\n",
            "Features: [b'<OOV><OOV><OOV><OOV><OOV><OOV>Exception<OOV><OOV><OOV><OOV><OOV><OOV><OOV><OOV><OOV>_current<OOV><OOV><OOV><OOV><OOV><OOV><OOV><OOV>_current!;<OOV><OOV><OOV><OOV>'], Target: b'<OOV>'\n"
          ],
          "name": "stdout"
        }
      ]
    },
    {
      "cell_type": "markdown",
      "metadata": {
        "id": "4bSReO6iLdqw"
      },
      "source": [
        "# Modeling"
      ]
    },
    {
      "cell_type": "code",
      "metadata": {
        "id": "xgAroJvCNgnZ"
      },
      "source": [
        "def plot_graphs(history, metric):\n",
        "  plt.plot(history.history[metric])\n",
        "  plt.plot(history.history['val_' + metric], '')\n",
        "  plt.xlabel('Epochs')\n",
        "  plt.ylabel(metric)\n",
        "  plt.legend([metric, 'val_'+metric])"
      ],
      "execution_count": 14,
      "outputs": []
    },
    {
      "cell_type": "code",
      "metadata": {
        "id": "fwlPZz7mDObg"
      },
      "source": [
        "def plot_loss_acc(history):\n",
        "  plt.figure(figsize=(16, 8))\n",
        "  plt.subplot(1, 2, 1)\n",
        "  plot_graphs(history, 'accuracy')\n",
        "  plt.ylim(None, 1)\n",
        "  plt.subplot(1, 2, 2)\n",
        "  plot_graphs(history, 'loss')\n",
        "  plt.ylim(0, None)"
      ],
      "execution_count": 15,
      "outputs": []
    },
    {
      "cell_type": "code",
      "metadata": {
        "id": "fg6EA8kGCikt"
      },
      "source": [
        "embedding_dim = 32\n",
        "max_length = LENGTH_TO_CONSIDER\n",
        "trunc_type='post'\n",
        "padding_type='post'\n",
        "oov_tok = '<OOV>'\n",
        "num_epochs = 30"
      ],
      "execution_count": 16,
      "outputs": []
    },
    {
      "cell_type": "markdown",
      "metadata": {
        "id": "wTMP_7FVLeo0"
      },
      "source": [
        "## Type classification"
      ]
    },
    {
      "cell_type": "code",
      "metadata": {
        "id": "thBZUT_rDB2e"
      },
      "source": [
        "type_vocab_size = 1000"
      ],
      "execution_count": 17,
      "outputs": []
    },
    {
      "cell_type": "code",
      "metadata": {
        "id": "VSroJfY65Ai6"
      },
      "source": [
        "type_sentences = type_classification_dataset['Text'].tolist()\n",
        "type_labels = type_target.tolist()\n",
        "\n",
        "type_training_size = int(len(type_sentences) * 0.8)\n",
        "type_training_text = type_sentences[:type_training_size]\n",
        "type_validation_text = type_sentences[type_training_size:]\n",
        "type_training_labels = np.array(type_labels[:type_training_size])\n",
        "type_validation_labels = np.array(type_labels[type_training_size:])"
      ],
      "execution_count": 18,
      "outputs": []
    },
    {
      "cell_type": "code",
      "metadata": {
        "id": "o9-ptsPM7P2l"
      },
      "source": [
        "type_tokenizer = Tokenizer(num_words=type_vocab_size, oov_token=oov_tok)\n",
        "type_tokenizer.fit_on_texts(type_training_text)"
      ],
      "execution_count": 19,
      "outputs": []
    },
    {
      "cell_type": "code",
      "metadata": {
        "id": "rG7C4Rpk7VXV"
      },
      "source": [
        "type_training_sequences = type_tokenizer.texts_to_sequences(type_training_text)\n",
        "type_training_padded = pad_sequences(type_training_sequences, maxlen=max_length, padding=padding_type, \n",
        "                       truncating=trunc_type)"
      ],
      "execution_count": 20,
      "outputs": []
    },
    {
      "cell_type": "code",
      "metadata": {
        "id": "2Al5gMKZ7XK8"
      },
      "source": [
        "type_validation_sequences = type_tokenizer.texts_to_sequences(type_validation_text)\n",
        "type_validation_padded = pad_sequences(type_validation_sequences, maxlen=max_length, \n",
        "                               padding=padding_type, truncating=trunc_type)"
      ],
      "execution_count": 21,
      "outputs": []
    },
    {
      "cell_type": "code",
      "metadata": {
        "colab": {
          "base_uri": "https://localhost:8080/"
        },
        "id": "JJDei8u4MBvz",
        "outputId": "d6c5d5fd-eeca-4039-ce94-b437b7f7f400"
      },
      "source": [
        "type_model = tf.keras.Sequential([\n",
        "    tf.keras.layers.Embedding(type_vocab_size, embedding_dim, input_length=max_length),\n",
        "    tf.keras.layers.Flatten(),\n",
        "    tf.keras.layers.Dense(128, activation='relu'),\n",
        "    tf.keras.layers.Dense(64, activation='relu'),\n",
        "    tf.keras.layers.Dense(len(type_classification_labels))\n",
        "])\n",
        "\n",
        "type_model.compile(loss=tf.keras.losses.SparseCategoricalCrossentropy(from_logits=True), optimizer='adam', metrics=['accuracy'])\n",
        "type_model.summary()"
      ],
      "execution_count": 22,
      "outputs": [
        {
          "output_type": "stream",
          "text": [
            "Model: \"sequential\"\n",
            "_________________________________________________________________\n",
            "Layer (type)                 Output Shape              Param #   \n",
            "=================================================================\n",
            "embedding (Embedding)        (None, 30, 32)            32000     \n",
            "_________________________________________________________________\n",
            "flatten (Flatten)            (None, 960)               0         \n",
            "_________________________________________________________________\n",
            "dense (Dense)                (None, 128)               123008    \n",
            "_________________________________________________________________\n",
            "dense_1 (Dense)              (None, 64)                8256      \n",
            "_________________________________________________________________\n",
            "dense_2 (Dense)              (None, 5)                 325       \n",
            "=================================================================\n",
            "Total params: 163,589\n",
            "Trainable params: 163,589\n",
            "Non-trainable params: 0\n",
            "_________________________________________________________________\n"
          ],
          "name": "stdout"
        }
      ]
    },
    {
      "cell_type": "code",
      "metadata": {
        "colab": {
          "base_uri": "https://localhost:8080/"
        },
        "id": "RzAi1Rz8M_-Q",
        "outputId": "cbc1fac6-69e4-4852-e573-c2e5b3450332"
      },
      "source": [
        "type_history = type_model.fit(type_training_padded, type_training_labels, epochs=num_epochs, validation_data=(type_validation_padded, type_validation_labels))"
      ],
      "execution_count": 23,
      "outputs": [
        {
          "output_type": "stream",
          "text": [
            "Epoch 1/30\n",
            "1261/1261 [==============================] - 5s 4ms/step - loss: 0.8474 - accuracy: 0.6848 - val_loss: 0.6855 - val_accuracy: 0.6846\n",
            "Epoch 2/30\n",
            "1261/1261 [==============================] - 4s 3ms/step - loss: 0.6516 - accuracy: 0.7281 - val_loss: 0.6339 - val_accuracy: 0.6841\n",
            "Epoch 3/30\n",
            "1261/1261 [==============================] - 4s 3ms/step - loss: 0.5881 - accuracy: 0.7372 - val_loss: 0.6227 - val_accuracy: 0.6839\n",
            "Epoch 4/30\n",
            "1261/1261 [==============================] - 4s 3ms/step - loss: 0.5424 - accuracy: 0.7577 - val_loss: 0.6195 - val_accuracy: 0.6839\n",
            "Epoch 5/30\n",
            "1261/1261 [==============================] - 4s 3ms/step - loss: 0.5117 - accuracy: 0.7663 - val_loss: 0.6063 - val_accuracy: 0.6900\n",
            "Epoch 6/30\n",
            "1261/1261 [==============================] - 4s 3ms/step - loss: 0.4888 - accuracy: 0.7717 - val_loss: 0.6123 - val_accuracy: 0.6820\n",
            "Epoch 7/30\n",
            "1261/1261 [==============================] - 4s 3ms/step - loss: 0.4658 - accuracy: 0.7798 - val_loss: 0.6100 - val_accuracy: 0.6872\n",
            "Epoch 8/30\n",
            "1261/1261 [==============================] - 4s 3ms/step - loss: 0.4511 - accuracy: 0.7875 - val_loss: 0.6144 - val_accuracy: 0.6883\n",
            "Epoch 9/30\n",
            "1261/1261 [==============================] - 4s 3ms/step - loss: 0.4417 - accuracy: 0.7873 - val_loss: 0.6200 - val_accuracy: 0.6859\n",
            "Epoch 10/30\n",
            "1261/1261 [==============================] - 4s 3ms/step - loss: 0.4305 - accuracy: 0.7950 - val_loss: 0.6210 - val_accuracy: 0.6929\n",
            "Epoch 11/30\n",
            "1261/1261 [==============================] - 4s 3ms/step - loss: 0.4302 - accuracy: 0.7945 - val_loss: 0.6311 - val_accuracy: 0.6879\n",
            "Epoch 12/30\n",
            "1261/1261 [==============================] - 4s 3ms/step - loss: 0.4162 - accuracy: 0.7995 - val_loss: 0.6294 - val_accuracy: 0.6924\n",
            "Epoch 13/30\n",
            "1261/1261 [==============================] - 4s 3ms/step - loss: 0.4144 - accuracy: 0.8006 - val_loss: 0.6497 - val_accuracy: 0.6811\n",
            "Epoch 14/30\n",
            "1261/1261 [==============================] - 4s 3ms/step - loss: 0.4120 - accuracy: 0.7994 - val_loss: 0.6503 - val_accuracy: 0.6900\n",
            "Epoch 15/30\n",
            "1261/1261 [==============================] - 4s 3ms/step - loss: 0.4065 - accuracy: 0.8051 - val_loss: 0.6489 - val_accuracy: 0.6907\n",
            "Epoch 16/30\n",
            "1261/1261 [==============================] - 4s 3ms/step - loss: 0.4034 - accuracy: 0.8012 - val_loss: 0.6534 - val_accuracy: 0.6885\n",
            "Epoch 17/30\n",
            "1261/1261 [==============================] - 4s 3ms/step - loss: 0.3979 - accuracy: 0.8050 - val_loss: 0.6566 - val_accuracy: 0.6922\n",
            "Epoch 18/30\n",
            "1261/1261 [==============================] - 4s 3ms/step - loss: 0.3975 - accuracy: 0.8050 - val_loss: 0.6667 - val_accuracy: 0.6812\n",
            "Epoch 19/30\n",
            "1261/1261 [==============================] - 4s 3ms/step - loss: 0.3879 - accuracy: 0.8089 - val_loss: 0.6696 - val_accuracy: 0.6891\n",
            "Epoch 20/30\n",
            "1261/1261 [==============================] - 4s 3ms/step - loss: 0.3975 - accuracy: 0.8046 - val_loss: 0.6848 - val_accuracy: 0.6867\n",
            "Epoch 21/30\n",
            "1261/1261 [==============================] - 4s 3ms/step - loss: 0.3971 - accuracy: 0.8038 - val_loss: 0.6799 - val_accuracy: 0.6923\n",
            "Epoch 22/30\n",
            "1261/1261 [==============================] - 4s 3ms/step - loss: 0.3909 - accuracy: 0.8076 - val_loss: 0.6969 - val_accuracy: 0.6890\n",
            "Epoch 23/30\n",
            "1261/1261 [==============================] - 4s 3ms/step - loss: 0.3926 - accuracy: 0.8068 - val_loss: 0.6831 - val_accuracy: 0.6900\n",
            "Epoch 24/30\n",
            "1261/1261 [==============================] - 4s 3ms/step - loss: 0.3910 - accuracy: 0.8102 - val_loss: 0.6916 - val_accuracy: 0.6830\n",
            "Epoch 25/30\n",
            "1261/1261 [==============================] - 4s 3ms/step - loss: 0.3868 - accuracy: 0.8097 - val_loss: 0.6967 - val_accuracy: 0.6892\n",
            "Epoch 26/30\n",
            "1261/1261 [==============================] - 4s 3ms/step - loss: 0.3849 - accuracy: 0.8117 - val_loss: 0.6895 - val_accuracy: 0.6891\n",
            "Epoch 27/30\n",
            "1261/1261 [==============================] - 4s 3ms/step - loss: 0.3808 - accuracy: 0.8118 - val_loss: 0.6961 - val_accuracy: 0.6865\n",
            "Epoch 28/30\n",
            "1261/1261 [==============================] - 4s 3ms/step - loss: 0.3852 - accuracy: 0.8099 - val_loss: 0.7045 - val_accuracy: 0.6871\n",
            "Epoch 29/30\n",
            "1261/1261 [==============================] - 4s 3ms/step - loss: 0.3823 - accuracy: 0.8124 - val_loss: 0.7024 - val_accuracy: 0.6881\n",
            "Epoch 30/30\n",
            "1261/1261 [==============================] - 4s 3ms/step - loss: 0.3783 - accuracy: 0.8131 - val_loss: 0.7182 - val_accuracy: 0.6870\n"
          ],
          "name": "stdout"
        }
      ]
    },
    {
      "cell_type": "code",
      "metadata": {
        "colab": {
          "base_uri": "https://localhost:8080/",
          "height": 501
        },
        "id": "e_5t60T0NRf7",
        "outputId": "245e2d55-61dc-4d62-c597-fe8f29a4e7c4"
      },
      "source": [
        "plot_loss_acc(type_history)"
      ],
      "execution_count": 24,
      "outputs": [
        {
          "output_type": "display_data",
          "data": {
            "image/png": "[encoded data removed]",
            "text/plain": [
              "<Figure size 1152x576 with 2 Axes>"
            ]
          },
          "metadata": {
            "tags": [],
            "needs_background": "light"
          }
        }
      ]
    },
    {
      "cell_type": "code",
      "metadata": {
        "id": "C3P1sote8ici"
      },
      "source": [
        "type_probability_model = tf.keras.Sequential([type_model, \n",
        "                                         tf.keras.layers.Softmax()])"
      ],
      "execution_count": 25,
      "outputs": []
    },
    {
      "cell_type": "markdown",
      "metadata": {
        "id": "rwR5g_wJLgHD"
      },
      "source": [
        "## Keyword classification"
      ]
    },
    {
      "cell_type": "code",
      "metadata": {
        "id": "ko6gitM4DIWe"
      },
      "source": [
        "keyword_vocab_size = len(dart_keywords) + 1"
      ],
      "execution_count": 26,
      "outputs": []
    },
    {
      "cell_type": "code",
      "metadata": {
        "id": "In1tQAW2CVra"
      },
      "source": [
        "keyword_sentences = keyword_classification_dataset['Text'].tolist()\n",
        "keyword_labels = keyword_target.tolist()\n",
        "\n",
        "keyword_training_size = int(len(keyword_sentences) * 0.8)\n",
        "keyword_training_text = keyword_sentences[:keyword_training_size]\n",
        "keyword_validation_text = keyword_sentences[keyword_training_size:]\n",
        "keyword_training_labels = np.array(keyword_labels[:keyword_training_size])\n",
        "keyword_validation_labels = np.array(keyword_labels[keyword_training_size:])"
      ],
      "execution_count": 27,
      "outputs": []
    },
    {
      "cell_type": "code",
      "metadata": {
        "id": "7brL0uTBCWFx"
      },
      "source": [
        "keyword_tokenizer = Tokenizer(num_words=keyword_vocab_size, oov_token=oov_tok)\n",
        "keyword_tokenizer.fit_on_texts(keyword_training_text)"
      ],
      "execution_count": 28,
      "outputs": []
    },
    {
      "cell_type": "code",
      "metadata": {
        "id": "oufo1P7FC2Ju"
      },
      "source": [
        "keyword_training_sequences = keyword_tokenizer.texts_to_sequences(keyword_training_text)\n",
        "keyword_training_padded = pad_sequences(keyword_training_sequences, maxlen=max_length, padding=padding_type, \n",
        "                       truncating=trunc_type)"
      ],
      "execution_count": 29,
      "outputs": []
    },
    {
      "cell_type": "code",
      "metadata": {
        "id": "VKDIpgYfDYxb"
      },
      "source": [
        "keyword_validation_sequences = keyword_tokenizer.texts_to_sequences(keyword_validation_text)\n",
        "keyword_validation_padded = pad_sequences(keyword_validation_sequences, maxlen=max_length, \n",
        "                               padding=padding_type, truncating=trunc_type)"
      ],
      "execution_count": 30,
      "outputs": []
    },
    {
      "cell_type": "code",
      "metadata": {
        "colab": {
          "base_uri": "https://localhost:8080/"
        },
        "id": "NMkOqWgYDfnV",
        "outputId": "7b99cdfd-fb04-4d5e-8a92-73679542b163"
      },
      "source": [
        "keyword_model = tf.keras.Sequential([\n",
        "    tf.keras.layers.Embedding(keyword_vocab_size, embedding_dim, input_length=max_length),\n",
        "    tf.keras.layers.Flatten(),\n",
        "    tf.keras.layers.Dense(128, activation='relu'),\n",
        "    tf.keras.layers.Dense(64, activation='relu'),\n",
        "    tf.keras.layers.Dense(keyword_vocab_size)\n",
        "])\n",
        "\n",
        "keyword_model.compile(loss=tf.keras.losses.SparseCategoricalCrossentropy(from_logits=True), optimizer='adam', metrics=['accuracy'])\n",
        "keyword_model.summary()"
      ],
      "execution_count": 31,
      "outputs": [
        {
          "output_type": "stream",
          "text": [
            "Model: \"sequential_2\"\n",
            "_________________________________________________________________\n",
            "Layer (type)                 Output Shape              Param #   \n",
            "=================================================================\n",
            "embedding_1 (Embedding)      (None, 30, 32)            1984      \n",
            "_________________________________________________________________\n",
            "flatten_1 (Flatten)          (None, 960)               0         \n",
            "_________________________________________________________________\n",
            "dense_3 (Dense)              (None, 128)               123008    \n",
            "_________________________________________________________________\n",
            "dense_4 (Dense)              (None, 64)                8256      \n",
            "_________________________________________________________________\n",
            "dense_5 (Dense)              (None, 62)                4030      \n",
            "=================================================================\n",
            "Total params: 137,278\n",
            "Trainable params: 137,278\n",
            "Non-trainable params: 0\n",
            "_________________________________________________________________\n"
          ],
          "name": "stdout"
        }
      ]
    },
    {
      "cell_type": "code",
      "metadata": {
        "colab": {
          "base_uri": "https://localhost:8080/"
        },
        "id": "1f9YnkayDqzp",
        "outputId": "ee12fa64-fc32-42db-ef0d-38a395934176"
      },
      "source": [
        "keyword_history = keyword_model.fit(keyword_training_padded, keyword_training_labels, epochs=num_epochs, validation_data=(keyword_validation_padded, keyword_validation_labels))"
      ],
      "execution_count": 32,
      "outputs": [
        {
          "output_type": "stream",
          "text": [
            "Epoch 1/30\n",
            "13/13 [==============================] - 1s 21ms/step - loss: 4.0439 - accuracy: 0.1931 - val_loss: 3.6063 - val_accuracy: 0.0000e+00\n",
            "Epoch 2/30\n",
            "13/13 [==============================] - 0s 7ms/step - loss: 3.2649 - accuracy: 0.3526 - val_loss: 2.9187 - val_accuracy: 0.0000e+00\n",
            "Epoch 3/30\n",
            "13/13 [==============================] - 0s 7ms/step - loss: 2.6923 - accuracy: 0.3434 - val_loss: 2.1787 - val_accuracy: 0.0000e+00\n",
            "Epoch 4/30\n",
            "13/13 [==============================] - 0s 7ms/step - loss: 2.3157 - accuracy: 0.3754 - val_loss: 2.3672 - val_accuracy: 0.0000e+00\n",
            "Epoch 5/30\n",
            "13/13 [==============================] - 0s 7ms/step - loss: 2.3501 - accuracy: 0.3395 - val_loss: 2.3318 - val_accuracy: 0.0000e+00\n",
            "Epoch 6/30\n",
            "13/13 [==============================] - 0s 7ms/step - loss: 2.3494 - accuracy: 0.3336 - val_loss: 2.2886 - val_accuracy: 0.0000e+00\n",
            "Epoch 7/30\n",
            "13/13 [==============================] - 0s 6ms/step - loss: 2.2719 - accuracy: 0.3590 - val_loss: 2.2892 - val_accuracy: 0.0000e+00\n",
            "Epoch 8/30\n",
            "13/13 [==============================] - 0s 8ms/step - loss: 2.2460 - accuracy: 0.3699 - val_loss: 2.2595 - val_accuracy: 0.0000e+00\n",
            "Epoch 9/30\n",
            "13/13 [==============================] - 0s 7ms/step - loss: 2.2931 - accuracy: 0.3245 - val_loss: 2.2432 - val_accuracy: 0.0000e+00\n",
            "Epoch 10/30\n",
            "13/13 [==============================] - 0s 7ms/step - loss: 2.1441 - accuracy: 0.3563 - val_loss: 2.2148 - val_accuracy: 0.0000e+00\n",
            "Epoch 11/30\n",
            "13/13 [==============================] - 0s 7ms/step - loss: 2.1790 - accuracy: 0.3754 - val_loss: 2.2490 - val_accuracy: 0.0000e+00\n",
            "Epoch 12/30\n",
            "13/13 [==============================] - 0s 7ms/step - loss: 2.1799 - accuracy: 0.3571 - val_loss: 2.1548 - val_accuracy: 0.0000e+00\n",
            "Epoch 13/30\n",
            "13/13 [==============================] - 0s 7ms/step - loss: 2.0908 - accuracy: 0.3836 - val_loss: 2.2205 - val_accuracy: 0.0000e+00\n",
            "Epoch 14/30\n",
            "13/13 [==============================] - 0s 7ms/step - loss: 2.0546 - accuracy: 0.4100 - val_loss: 2.2620 - val_accuracy: 0.0000e+00\n",
            "Epoch 15/30\n",
            "13/13 [==============================] - 0s 7ms/step - loss: 2.1017 - accuracy: 0.3605 - val_loss: 2.3511 - val_accuracy: 0.0000e+00\n",
            "Epoch 16/30\n",
            "13/13 [==============================] - 0s 7ms/step - loss: 1.9030 - accuracy: 0.4256 - val_loss: 2.0887 - val_accuracy: 0.0000e+00\n",
            "Epoch 17/30\n",
            "13/13 [==============================] - 0s 7ms/step - loss: 1.9801 - accuracy: 0.4480 - val_loss: 2.1506 - val_accuracy: 0.0000e+00\n",
            "Epoch 18/30\n",
            "13/13 [==============================] - 0s 6ms/step - loss: 1.9374 - accuracy: 0.4383 - val_loss: 2.1685 - val_accuracy: 0.0000e+00\n",
            "Epoch 19/30\n",
            "13/13 [==============================] - 0s 7ms/step - loss: 1.8674 - accuracy: 0.4713 - val_loss: 2.1173 - val_accuracy: 0.0000e+00\n",
            "Epoch 20/30\n",
            "13/13 [==============================] - 0s 7ms/step - loss: 1.8845 - accuracy: 0.4687 - val_loss: 2.0846 - val_accuracy: 0.0097\n",
            "Epoch 21/30\n",
            "13/13 [==============================] - 0s 7ms/step - loss: 1.8092 - accuracy: 0.4943 - val_loss: 2.0300 - val_accuracy: 0.0097\n",
            "Epoch 22/30\n",
            "13/13 [==============================] - 0s 7ms/step - loss: 1.7908 - accuracy: 0.4865 - val_loss: 2.1674 - val_accuracy: 0.0097\n",
            "Epoch 23/30\n",
            "13/13 [==============================] - 0s 7ms/step - loss: 1.6597 - accuracy: 0.4935 - val_loss: 2.2990 - val_accuracy: 0.0097\n",
            "Epoch 24/30\n",
            "13/13 [==============================] - 0s 6ms/step - loss: 1.6284 - accuracy: 0.5120 - val_loss: 2.1506 - val_accuracy: 0.0097\n",
            "Epoch 25/30\n",
            "13/13 [==============================] - 0s 7ms/step - loss: 1.5875 - accuracy: 0.5062 - val_loss: 1.9090 - val_accuracy: 0.0097\n",
            "Epoch 26/30\n",
            "13/13 [==============================] - 0s 6ms/step - loss: 1.5685 - accuracy: 0.5191 - val_loss: 2.2237 - val_accuracy: 0.0097\n",
            "Epoch 27/30\n",
            "13/13 [==============================] - 0s 6ms/step - loss: 1.5522 - accuracy: 0.4813 - val_loss: 2.0512 - val_accuracy: 0.0097\n",
            "Epoch 28/30\n",
            "13/13 [==============================] - 0s 6ms/step - loss: 1.5091 - accuracy: 0.5279 - val_loss: 1.9548 - val_accuracy: 0.0097\n",
            "Epoch 29/30\n",
            "13/13 [==============================] - 0s 7ms/step - loss: 1.4431 - accuracy: 0.5566 - val_loss: 2.0770 - val_accuracy: 0.0097\n",
            "Epoch 30/30\n",
            "13/13 [==============================] - 0s 7ms/step - loss: 1.4168 - accuracy: 0.5176 - val_loss: 1.9698 - val_accuracy: 0.0097\n"
          ],
          "name": "stdout"
        }
      ]
    },
    {
      "cell_type": "code",
      "metadata": {
        "colab": {
          "base_uri": "https://localhost:8080/",
          "height": 501
        },
        "id": "EJpn6h6SD2z2",
        "outputId": "3a9b55a8-00ea-436b-933b-94c9b208b217"
      },
      "source": [
        "plot_loss_acc(keyword_history)"
      ],
      "execution_count": 33,
      "outputs": [
        {
          "output_type": "display_data",
          "data": {
            "image/png": "[encoded data removed]",
            "text/plain": [
              "<Figure size 1152x576 with 2 Axes>"
            ]
          },
          "metadata": {
            "tags": [],
            "needs_background": "light"
          }
        }
      ]
    },
    {
      "cell_type": "code",
      "metadata": {
        "id": "4wA7t686D5FM"
      },
      "source": [
        "keyword_probability_model = tf.keras.Sequential([keyword_model, \n",
        "                                         tf.keras.layers.Softmax()])"
      ],
      "execution_count": 34,
      "outputs": []
    },
    {
      "cell_type": "markdown",
      "metadata": {
        "id": "CfTgJD1ZLhzs"
      },
      "source": [
        "## Operator classification"
      ]
    },
    {
      "cell_type": "code",
      "metadata": {
        "id": "CfHo5s8ja07-"
      },
      "source": [
        "operator_vocab_size = len(dart_operators) + 1"
      ],
      "execution_count": 35,
      "outputs": []
    },
    {
      "cell_type": "code",
      "metadata": {
        "id": "Uu6nqhQXJU_H"
      },
      "source": [
        "operator_sentences = operator_classification_dataset['Text'].tolist()\n",
        "operator_labels = operator_target.tolist()\n",
        "\n",
        "operator_training_size = int(len(operator_sentences) * 0.8)\n",
        "operator_training_text = operator_sentences[:operator_training_size]\n",
        "operator_validation_text = operator_sentences[operator_training_size:]\n",
        "operator_training_labels = np.array(operator_labels[:operator_training_size])\n",
        "operator_validation_labels = np.array(operator_labels[operator_training_size:])"
      ],
      "execution_count": 36,
      "outputs": []
    },
    {
      "cell_type": "code",
      "metadata": {
        "id": "vylwKYv9Jfo7"
      },
      "source": [
        "operator_tokenizer = Tokenizer(num_words=operator_vocab_size, oov_token=oov_tok)\n",
        "operator_tokenizer.fit_on_texts(operator_training_text)"
      ],
      "execution_count": 37,
      "outputs": []
    },
    {
      "cell_type": "code",
      "metadata": {
        "id": "MBHlX35CJnbO"
      },
      "source": [
        "operator_training_sequences = operator_tokenizer.texts_to_sequences(operator_training_text)\n",
        "operator_training_padded = pad_sequences(operator_training_sequences, maxlen=max_length, padding=padding_type, \n",
        "                       truncating=trunc_type)"
      ],
      "execution_count": 38,
      "outputs": []
    },
    {
      "cell_type": "code",
      "metadata": {
        "id": "Y4ZBm5W7JsT7"
      },
      "source": [
        "operator_validation_sequences = operator_tokenizer.texts_to_sequences(operator_validation_text)\n",
        "operator_validation_padded = pad_sequences(operator_validation_sequences, maxlen=max_length, \n",
        "                               padding=padding_type, truncating=trunc_type)"
      ],
      "execution_count": 39,
      "outputs": []
    },
    {
      "cell_type": "code",
      "metadata": {
        "colab": {
          "base_uri": "https://localhost:8080/"
        },
        "id": "lK1I2ifYJxrs",
        "outputId": "6ae464fc-b05b-455b-aae1-2387d9a4c0e7"
      },
      "source": [
        "operator_model = tf.keras.Sequential([\n",
        "    tf.keras.layers.Embedding(operator_vocab_size, embedding_dim, input_length=max_length),\n",
        "    tf.keras.layers.Flatten(),\n",
        "    tf.keras.layers.Dense(128, activation='relu'),\n",
        "    tf.keras.layers.Dense(64, activation='relu'),\n",
        "    tf.keras.layers.Dense(operator_vocab_size)\n",
        "])\n",
        "\n",
        "operator_model.compile(loss=tf.keras.losses.SparseCategoricalCrossentropy(from_logits=True), optimizer='adam', metrics=['accuracy'])\n",
        "operator_model.summary()"
      ],
      "execution_count": 40,
      "outputs": [
        {
          "output_type": "stream",
          "text": [
            "Model: \"sequential_4\"\n",
            "_________________________________________________________________\n",
            "Layer (type)                 Output Shape              Param #   \n",
            "=================================================================\n",
            "embedding_2 (Embedding)      (None, 30, 32)            1568      \n",
            "_________________________________________________________________\n",
            "flatten_2 (Flatten)          (None, 960)               0         \n",
            "_________________________________________________________________\n",
            "dense_6 (Dense)              (None, 128)               123008    \n",
            "_________________________________________________________________\n",
            "dense_7 (Dense)              (None, 64)                8256      \n",
            "_________________________________________________________________\n",
            "dense_8 (Dense)              (None, 49)                3185      \n",
            "=================================================================\n",
            "Total params: 136,017\n",
            "Trainable params: 136,017\n",
            "Non-trainable params: 0\n",
            "_________________________________________________________________\n"
          ],
          "name": "stdout"
        }
      ]
    },
    {
      "cell_type": "code",
      "metadata": {
        "colab": {
          "base_uri": "https://localhost:8080/"
        },
        "id": "dz4xxWJFJ42P",
        "outputId": "bdc4978f-a75e-43fd-d28e-4b7efd777139"
      },
      "source": [
        "operator_history = operator_model.fit(operator_training_padded, operator_training_labels, epochs=num_epochs, validation_data=(operator_validation_padded, operator_validation_labels))"
      ],
      "execution_count": 41,
      "outputs": [
        {
          "output_type": "stream",
          "text": [
            "Epoch 1/30\n",
            "166/166 [==============================] - 1s 4ms/step - loss: 2.3955 - accuracy: 0.2779 - val_loss: 1.5536 - val_accuracy: 0.4223\n",
            "Epoch 2/30\n",
            "166/166 [==============================] - 1s 3ms/step - loss: 1.5682 - accuracy: 0.4271 - val_loss: 1.3166 - val_accuracy: 0.5075\n",
            "Epoch 3/30\n",
            "166/166 [==============================] - 1s 3ms/step - loss: 1.3859 - accuracy: 0.4987 - val_loss: 1.2691 - val_accuracy: 0.5317\n",
            "Epoch 4/30\n",
            "166/166 [==============================] - 1s 4ms/step - loss: 1.4048 - accuracy: 0.4884 - val_loss: 1.2505 - val_accuracy: 0.5445\n",
            "Epoch 5/30\n",
            "166/166 [==============================] - 1s 3ms/step - loss: 1.3637 - accuracy: 0.5025 - val_loss: 1.2248 - val_accuracy: 0.5204\n",
            "Epoch 6/30\n",
            "166/166 [==============================] - 1s 4ms/step - loss: 1.3769 - accuracy: 0.5036 - val_loss: 1.2292 - val_accuracy: 0.5626\n",
            "Epoch 7/30\n",
            "166/166 [==============================] - 1s 3ms/step - loss: 1.3425 - accuracy: 0.5074 - val_loss: 1.1973 - val_accuracy: 0.5317\n",
            "Epoch 8/30\n",
            "166/166 [==============================] - 1s 3ms/step - loss: 1.3478 - accuracy: 0.5025 - val_loss: 1.1796 - val_accuracy: 0.5317\n",
            "Epoch 9/30\n",
            "166/166 [==============================] - 1s 3ms/step - loss: 1.3518 - accuracy: 0.5027 - val_loss: 1.1862 - val_accuracy: 0.5626\n",
            "Epoch 10/30\n",
            "166/166 [==============================] - 1s 3ms/step - loss: 1.3377 - accuracy: 0.5011 - val_loss: 1.2035 - val_accuracy: 0.5324\n",
            "Epoch 11/30\n",
            "166/166 [==============================] - 1s 3ms/step - loss: 1.3701 - accuracy: 0.4883 - val_loss: 1.1828 - val_accuracy: 0.5317\n",
            "Epoch 12/30\n",
            "166/166 [==============================] - 1s 3ms/step - loss: 1.3276 - accuracy: 0.4910 - val_loss: 1.1767 - val_accuracy: 0.5626\n",
            "Epoch 13/30\n",
            "166/166 [==============================] - 1s 3ms/step - loss: 1.3226 - accuracy: 0.5150 - val_loss: 1.1848 - val_accuracy: 0.5324\n",
            "Epoch 14/30\n",
            "166/166 [==============================] - 1s 4ms/step - loss: 1.3601 - accuracy: 0.5002 - val_loss: 1.1959 - val_accuracy: 0.5317\n",
            "Epoch 15/30\n",
            "166/166 [==============================] - 1s 3ms/step - loss: 1.3247 - accuracy: 0.5119 - val_loss: 1.1961 - val_accuracy: 0.5324\n",
            "Epoch 16/30\n",
            "166/166 [==============================] - 1s 3ms/step - loss: 1.3540 - accuracy: 0.4878 - val_loss: 1.1780 - val_accuracy: 0.5445\n",
            "Epoch 17/30\n",
            "166/166 [==============================] - 1s 3ms/step - loss: 1.3654 - accuracy: 0.4954 - val_loss: 1.1849 - val_accuracy: 0.5324\n",
            "Epoch 18/30\n",
            "166/166 [==============================] - 1s 3ms/step - loss: 1.3598 - accuracy: 0.4918 - val_loss: 1.1777 - val_accuracy: 0.5317\n",
            "Epoch 19/30\n",
            "166/166 [==============================] - 1s 3ms/step - loss: 1.3295 - accuracy: 0.5009 - val_loss: 1.1779 - val_accuracy: 0.5566\n",
            "Epoch 20/30\n",
            "166/166 [==============================] - 1s 3ms/step - loss: 1.3381 - accuracy: 0.5027 - val_loss: 1.1820 - val_accuracy: 0.5573\n",
            "Epoch 21/30\n",
            "166/166 [==============================] - 1s 4ms/step - loss: 1.3464 - accuracy: 0.4970 - val_loss: 1.1667 - val_accuracy: 0.5324\n",
            "Epoch 22/30\n",
            "166/166 [==============================] - 1s 3ms/step - loss: 1.3250 - accuracy: 0.5047 - val_loss: 1.2094 - val_accuracy: 0.5324\n",
            "Epoch 23/30\n",
            "166/166 [==============================] - 1s 3ms/step - loss: 1.3801 - accuracy: 0.4965 - val_loss: 1.2023 - val_accuracy: 0.5083\n",
            "Epoch 24/30\n",
            "166/166 [==============================] - 1s 3ms/step - loss: 1.3424 - accuracy: 0.4965 - val_loss: 1.1663 - val_accuracy: 0.5317\n",
            "Epoch 25/30\n",
            "166/166 [==============================] - 1s 3ms/step - loss: 1.3289 - accuracy: 0.5014 - val_loss: 1.1882 - val_accuracy: 0.5445\n",
            "Epoch 26/30\n",
            "166/166 [==============================] - 1s 3ms/step - loss: 1.3307 - accuracy: 0.5104 - val_loss: 1.2098 - val_accuracy: 0.5211\n",
            "Epoch 27/30\n",
            "166/166 [==============================] - 1s 3ms/step - loss: 1.3106 - accuracy: 0.5213 - val_loss: 1.1809 - val_accuracy: 0.5317\n",
            "Epoch 28/30\n",
            "166/166 [==============================] - 1s 3ms/step - loss: 1.2972 - accuracy: 0.5070 - val_loss: 1.1768 - val_accuracy: 0.5324\n",
            "Epoch 29/30\n",
            "166/166 [==============================] - 1s 3ms/step - loss: 1.3336 - accuracy: 0.4976 - val_loss: 1.1699 - val_accuracy: 0.5566\n",
            "Epoch 30/30\n",
            "166/166 [==============================] - 1s 3ms/step - loss: 1.3109 - accuracy: 0.5100 - val_loss: 1.1908 - val_accuracy: 0.5324\n"
          ],
          "name": "stdout"
        }
      ]
    },
    {
      "cell_type": "code",
      "metadata": {
        "colab": {
          "base_uri": "https://localhost:8080/",
          "height": 501
        },
        "id": "2RvxKCb5J93p",
        "outputId": "26ae8117-259d-4255-b0c9-c2334b3b2df3"
      },
      "source": [
        "plot_loss_acc(operator_history)"
      ],
      "execution_count": 42,
      "outputs": [
        {
          "output_type": "display_data",
          "data": {
            "image/png": "[encoded data removed]",
            "text/plain": [
              "<Figure size 1152x576 with 2 Axes>"
            ]
          },
          "metadata": {
            "tags": [],
            "needs_background": "light"
          }
        }
      ]
    },
    {
      "cell_type": "code",
      "metadata": {
        "id": "nfTtzViNKAJA"
      },
      "source": [
        "operator_probability_model = tf.keras.Sequential([keyword_model, \n",
        "                                         tf.keras.layers.Softmax()])"
      ],
      "execution_count": 43,
      "outputs": []
    },
    {
      "cell_type": "markdown",
      "metadata": {
        "id": "T4_WUtKmGLC-"
      },
      "source": [
        "## Exporting models"
      ]
    },
    {
      "cell_type": "code",
      "metadata": {
        "id": "8YIsQ2yWMfBz"
      },
      "source": [
        "def zipdir(path, ziph):\n",
        "    for root, dirs, files in os.walk(path):\n",
        "        for file in files:\n",
        "            ziph.write(os.path.join(root, file), \n",
        "                       os.path.relpath(os.path.join(root, file), \n",
        "                                       os.path.join(path, '..')))"
      ],
      "execution_count": null,
      "outputs": []
    },
    {
      "cell_type": "code",
      "metadata": {
        "colab": {
          "base_uri": "https://localhost:8080/"
        },
        "id": "fK3A_456KHAx",
        "outputId": "a6310b27-d77c-4227-eff8-fdb0dd6c4b34"
      },
      "source": [
        "type_probability_model.save('type_model')"
      ],
      "execution_count": 44,
      "outputs": [
        {
          "output_type": "stream",
          "text": [
            "INFO:tensorflow:Assets written to: type_model/assets\n"
          ],
          "name": "stdout"
        }
      ]
    },
    {
      "cell_type": "code",
      "metadata": {
        "id": "mA3DArfSMkPd"
      },
      "source": [
        "zipf = zipfile.ZipFile('type_model.zip', 'w', zipfile.ZIP_DEFLATED)\n",
        "zipdir('type_model/', zipf)"
      ],
      "execution_count": null,
      "outputs": []
    },
    {
      "cell_type": "code",
      "metadata": {
        "colab": {
          "base_uri": "https://localhost:8080/"
        },
        "id": "lssfUj0NKJQg",
        "outputId": "9e19ad32-1007-4c98-8eea-26c28974b942"
      },
      "source": [
        "keyword_probability_model.save('keyword_model')"
      ],
      "execution_count": 46,
      "outputs": [
        {
          "output_type": "stream",
          "text": [
            "INFO:tensorflow:Assets written to: keyword_model/assets\n"
          ],
          "name": "stdout"
        }
      ]
    },
    {
      "cell_type": "code",
      "metadata": {
        "id": "TY_G9bcRMnFd"
      },
      "source": [
        "zipf = zipfile.ZipFile('keyword_model.zip', 'w', zipfile.ZIP_DEFLATED)\n",
        "zipdir('keyword_model/', zipf)"
      ],
      "execution_count": null,
      "outputs": []
    },
    {
      "cell_type": "code",
      "metadata": {
        "colab": {
          "base_uri": "https://localhost:8080/"
        },
        "id": "Cabsvu3qKTte",
        "outputId": "41f5525a-ba7e-4bc6-8d9d-cd5ca807fcb8"
      },
      "source": [
        "operator_probability_model.save('operator_model')"
      ],
      "execution_count": 47,
      "outputs": [
        {
          "output_type": "stream",
          "text": [
            "INFO:tensorflow:Assets written to: operator_model/assets\n"
          ],
          "name": "stdout"
        }
      ]
    },
    {
      "cell_type": "code",
      "metadata": {
        "id": "wOZsxOufKWQ6"
      },
      "source": [
        "zipf = zipfile.ZipFile('operator_model.zip', 'w', zipfile.ZIP_DEFLATED)\n",
        "zipdir('operator_model/', zipf)"
      ],
      "execution_count": 48,
      "outputs": []
    },
    {
      "cell_type": "code",
      "metadata": {
        "id": "UMyLPmkgMrzU"
      },
      "source": [
        "zipf.close()"
      ],
      "execution_count": null,
      "outputs": []
    },
    {
      "cell_type": "markdown",
      "metadata": {
        "id": "89omJ31-LmBg"
      },
      "source": [
        "## Combining result"
      ]
    },
    {
      "cell_type": "code",
      "metadata": {
        "id": "sxHrlEMSa2dc"
      },
      "source": [
        "# Weighted combine every things and show top ten"
      ],
      "execution_count": null,
      "outputs": []
    },
    {
      "cell_type": "code",
      "metadata": {
        "id": "Fve4029ZLq5S"
      },
      "source": [
        "sample_sequences = type_tokenizer.texts_to_sequences(['const goodBoy = Complex();'])\n",
        "test_padded = pad_sequences(sample_sequences, padding=padding_type, maxlen=max_length)"
      ],
      "execution_count": null,
      "outputs": []
    },
    {
      "cell_type": "code",
      "metadata": {
        "id": "cS2Yh9PAAJwc"
      },
      "source": [
        "predictions = type_probability_model.predict(test_padded)\n",
        "type_classification_labels[np.argmax(predictions)]"
      ],
      "execution_count": null,
      "outputs": []
    },
    {
      "cell_type": "code",
      "metadata": {
        "id": "G2YLymMjGYWj"
      },
      "source": [
        "sample_sequences = keyword_tokenizer.texts_to_sequences(['const goodBoy = Complex();'])\n",
        "test_padded = pad_sequences(sample_sequences, padding=padding_type, maxlen=max_length)"
      ],
      "execution_count": null,
      "outputs": []
    },
    {
      "cell_type": "code",
      "metadata": {
        "id": "s6omCr1hFNrH"
      },
      "source": [
        "predictions = keyword_probability_model.predict(test_padded)\n",
        "keyword_classification_labels[np.argmax(predictions)]"
      ],
      "execution_count": null,
      "outputs": []
    },
    {
      "cell_type": "code",
      "metadata": {
        "id": "-c-C9phgKiLJ"
      },
      "source": [
        "sample_sequences = operator_tokenizer.texts_to_sequences(['const goodBoy = Complex();'])\n",
        "test_padded = pad_sequences(sample_sequences, padding=padding_type, maxlen=max_length)"
      ],
      "execution_count": null,
      "outputs": []
    },
    {
      "cell_type": "code",
      "metadata": {
        "id": "OHCSIkiGKinC"
      },
      "source": [
        "predictions = operator_probability_model.predict(test_padded)\n",
        "operator_classification_labels[np.argmax(predictions)]"
      ],
      "execution_count": null,
      "outputs": []
    },
    {
      "cell_type": "code",
      "metadata": {
        "id": "95seO9MUVl_A"
      },
      "source": [
        "def download_and_unzip(file_name, url):\n",
        "  r = requests.get(url, allow_redirects=True)\n",
        "  open(file_name, 'wb').write(r.content)\n",
        "\n",
        "  zip_ref = zipfile.ZipFile(file_name, \"r\")\n",
        "  zip_ref.extractall()\n",
        "  zip_ref.close()"
      ],
      "execution_count": 49,
      "outputs": []
    },
    {
      "cell_type": "code",
      "metadata": {
        "id": "1kX1DwOPGQAL"
      },
      "source": [
        "def predict_next_n_words(text, n):\n",
        "  download_and_unzip('type_model_v1.zip', 'https://github.com/Pittawat2542/dart-ml-autocomplete/raw/master/type_model_v1.zip')\n",
        "  download_and_unzip('keyword_model_v1.zip', 'https://github.com/Pittawat2542/dart-ml-autocomplete/raw/master/keyword_model_v1.zip')\n",
        "  download_and_unzip('operator_model_v1.zip', 'https://github.com/Pittawat2542/dart-ml-autocomplete/raw/master/operator_model_v1.zip')\n",
        "\n",
        "  loaded_type_model = tf.keras.models.load_model('type_model')\n",
        "  loaded_keyword_model = tf.keras.models.load_model('keyword_model')\n",
        "  loaded_operator_model = tf.keras.models.load_model('operator_model')\n",
        "  \n",
        "  t = list(filter(None, re.split(r'( |\\n|:|\\.|[()])', text)))\n",
        "  for i in range(n):\n",
        "    input_text = ''.join(t)\n",
        "    sequences = type_tokenizer.texts_to_sequences([input_text])\n",
        "    padded = pad_sequences(sequences, padding=padding_type, maxlen=max_length)\n",
        "    predicted_type = type_classification_labels[np.argmax(loaded_type_model.predict(padded))]\n",
        "\n",
        "    next_word = ''\n",
        "    if predicted_type == 'SPACE':\n",
        "      next_word = ' '\n",
        "    elif predicted_type == 'NEWLINE':\n",
        "      next_word = '\\n'\n",
        "    elif predicted_type == 'KEYWORD':\n",
        "      sequences = keyword_tokenizer.texts_to_sequences([input_text])\n",
        "      padded = pad_sequences(sequences, padding=padding_type, maxlen=max_length)\n",
        "      next_word = keyword_classification_labels[np.argmax(loaded_keyword_model.predict(padded))]\n",
        "    elif predicted_type == 'OPERATORS':\n",
        "      sequences = operator_tokenizer.texts_to_sequences([input_text])\n",
        "      padded = pad_sequences(sequences, padding=padding_type, maxlen=max_length)\n",
        "      next_word = operator_classification_labels[np.argmax(loaded_operator_model.predict(padded))]\n",
        "    else:\n",
        "      next_word = OUT_OF_VOCABULARY\n",
        "    \n",
        "    t.append(next_word)\n",
        "\n",
        "  return ''.join(t)"
      ],
      "execution_count": 65,
      "outputs": []
    },
    {
      "cell_type": "markdown",
      "metadata": {
        "id": "wt8nUU_jLqF0"
      },
      "source": [
        "# Predicting"
      ]
    },
    {
      "cell_type": "code",
      "metadata": {
        "colab": {
          "base_uri": "https://localhost:8080/",
          "height": 86
        },
        "id": "VoXgvqXOV8ap",
        "outputId": "9d65768d-dd85-4666-b89c-4f22320a5640"
      },
      "source": [
        "predict_next_n_words('const icon = IconData(', 1)"
      ],
      "execution_count": 67,
      "outputs": [
        {
          "output_type": "stream",
          "text": [
            "WARNING:tensorflow:No training configuration found in save file, so the model was *not* compiled. Compile it manually.\n",
            "WARNING:tensorflow:No training configuration found in save file, so the model was *not* compiled. Compile it manually.\n",
            "WARNING:tensorflow:No training configuration found in save file, so the model was *not* compiled. Compile it manually.\n"
          ],
          "name": "stdout"
        },
        {
          "output_type": "execute_result",
          "data": {
            "application/vnd.google.colaboratory.intrinsic+json": {
              "type": "string"
            },
            "text/plain": [
              "'const icon = IconData(this'"
            ]
          },
          "metadata": {
            "tags": []
          },
          "execution_count": 67
        }
      ]
    }
  ]
}